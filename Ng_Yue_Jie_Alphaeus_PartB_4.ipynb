{
 "cells": [
  {
   "cell_type": "markdown",
   "metadata": {
    "id": "Pp6KAX1UXqaK",
    "pycharm": {
     "name": "#%% md\n"
    }
   },
   "source": [
    "CS4001/4042 Assignment 1, Part B, Q4\n",
    "---\n",
    "\n",
    "Model degradation is a common issue faced when deploying machine learning models (including neural networks) in the real world. New data points could exhibit a different pattern from older data points due to factors such as changes in government policy or market sentiments. For instance, housing prices in Singapore have been increasing and the Singapore government has introduced 3 rounds of cooling measures over the past years (16 December 2021, 30 September 2022, 27 April 2023).\n",
    "\n",
    "In such situations, the distribution of the new data points could differ from the original data distribution which the models were trained on. Recall that machine learning models often work with the assumption that the test distribution should be similar to train distribution. When this assumption is violated, model performance will be adversely impacted.  In the last part of this assignment, we will investigate to what extent model degradation has occurred.\n"
   ]
  },
  {
   "cell_type": "markdown",
   "metadata": {
    "id": "WsfKoCAMj9uo",
    "pycharm": {
     "name": "#%% md\n"
    }
   },
   "source": [
    "\n",
    "\n",
    "---\n",
    "\n",
    "\n",
    "\n",
    "---\n",
    "\n"
   ]
  },
  {
   "cell_type": "markdown",
   "metadata": {
    "id": "Rjdf67uIarDX",
    "pycharm": {
     "name": "#%% md\n"
    }
   },
   "source": [
    "Your co-investigators used a linear regression model to rapidly test out several combinations of train/test splits and shared with you their findings in a brief report attached in Appendix A below. You wish to investigate whether your deep learning model corroborates with their findings."
   ]
  },
  {
   "cell_type": "code",
   "execution_count": 22,
   "metadata": {
    "id": "M3-BW2LW4Icq",
    "pycharm": {
     "name": "#%%\n"
    }
   },
   "outputs": [
    {
     "name": "stdout",
     "output_type": "stream",
     "text": [
      "Collecting alibi-detect\n",
      "  Obtaining dependency information for alibi-detect from https://files.pythonhosted.org/packages/ed/2a/9e11bfee0cf54c0ea78243cb0559d604878f6d58d0ac6227d11e7007decc/alibi_detect-0.11.4-py3-none-any.whl.metadata\n",
      "  Using cached alibi_detect-0.11.4-py3-none-any.whl.metadata (28 kB)\n",
      "Requirement already satisfied: matplotlib<4.0.0,>=3.0.0 in c:\\users\\alpha\\anaconda3\\envs\\cz4042_new\\lib\\site-packages (from alibi-detect) (3.8.0)\n",
      "Requirement already satisfied: numpy<2.0.0,>=1.16.2 in c:\\users\\alpha\\anaconda3\\envs\\cz4042_new\\lib\\site-packages (from alibi-detect) (1.24.1)\n",
      "Requirement already satisfied: pandas<3.0.0,>=1.0.0 in c:\\users\\alpha\\anaconda3\\envs\\cz4042_new\\lib\\site-packages (from alibi-detect) (2.1.1)\n",
      "Requirement already satisfied: Pillow<10.0.0,>=5.4.1 in c:\\users\\alpha\\anaconda3\\envs\\cz4042_new\\lib\\site-packages (from alibi-detect) (9.3.0)\n",
      "Collecting opencv-python<5.0.0,>=3.2.0 (from alibi-detect)\n",
      "  Obtaining dependency information for opencv-python<5.0.0,>=3.2.0 from https://files.pythonhosted.org/packages/38/d2/3e8c13ffc37ca5ebc6f382b242b44acb43eb489042e1728407ac3904e72f/opencv_python-4.8.1.78-cp37-abi3-win_amd64.whl.metadata\n",
      "  Using cached opencv_python-4.8.1.78-cp37-abi3-win_amd64.whl.metadata (20 kB)\n",
      "Requirement already satisfied: scipy<2.0.0,>=1.3.0 in c:\\users\\alpha\\anaconda3\\envs\\cz4042_new\\lib\\site-packages (from alibi-detect) (1.11.3)\n",
      "Collecting scikit-image!=0.17.1,<0.22,>=0.14.2 (from alibi-detect)\n",
      "  Obtaining dependency information for scikit-image!=0.17.1,<0.22,>=0.14.2 from https://files.pythonhosted.org/packages/f3/93/65601f7577d6fd49ec23bf8fb58c04d8170b06a1544452ae2ea9f59bf11f/scikit_image-0.21.0-cp310-cp310-win_amd64.whl.metadata\n",
      "  Using cached scikit_image-0.21.0-cp310-cp310-win_amd64.whl.metadata (14 kB)\n",
      "Requirement already satisfied: scikit-learn<2.0.0,>=0.20.2 in c:\\users\\alpha\\anaconda3\\envs\\cz4042_new\\lib\\site-packages (from alibi-detect) (1.3.1)\n",
      "Collecting transformers<5.0.0,>=4.0.0 (from alibi-detect)\n",
      "  Obtaining dependency information for transformers<5.0.0,>=4.0.0 from https://files.pythonhosted.org/packages/1a/d1/3bba59606141ae808017f6fde91453882f931957f125009417b87a281067/transformers-4.34.0-py3-none-any.whl.metadata\n",
      "  Using cached transformers-4.34.0-py3-none-any.whl.metadata (121 kB)\n",
      "Collecting dill<0.4.0,>=0.3.0 (from alibi-detect)\n",
      "  Obtaining dependency information for dill<0.4.0,>=0.3.0 from https://files.pythonhosted.org/packages/f5/3a/74a29b11cf2cdfcd6ba89c0cecd70b37cd1ba7b77978ce611eb7a146a832/dill-0.3.7-py3-none-any.whl.metadata\n",
      "  Using cached dill-0.3.7-py3-none-any.whl.metadata (9.9 kB)\n",
      "Requirement already satisfied: tqdm<5.0.0,>=4.28.1 in c:\\users\\alpha\\anaconda3\\envs\\cz4042_new\\lib\\site-packages (from alibi-detect) (4.66.1)\n",
      "Requirement already satisfied: requests<3.0.0,>=2.21.0 in c:\\users\\alpha\\anaconda3\\envs\\cz4042_new\\lib\\site-packages (from alibi-detect) (2.31.0)\n",
      "Collecting pydantic<2.0.0,>=1.8.0 (from alibi-detect)\n",
      "  Obtaining dependency information for pydantic<2.0.0,>=1.8.0 from https://files.pythonhosted.org/packages/87/34/d2dc31739fd781daa4581705f0c2ee5fec9daf258aeed6da1ca0149d1da0/pydantic-1.10.13-cp310-cp310-win_amd64.whl.metadata\n",
      "  Using cached pydantic-1.10.13-cp310-cp310-win_amd64.whl.metadata (150 kB)\n",
      "Collecting toml<1.0.0,>=0.10.1 (from alibi-detect)\n",
      "  Using cached toml-0.10.2-py2.py3-none-any.whl (16 kB)\n",
      "Requirement already satisfied: catalogue<3.0.0,>=2.0.0 in c:\\users\\alpha\\anaconda3\\envs\\cz4042_new\\lib\\site-packages (from alibi-detect) (2.0.10)\n",
      "Collecting numba!=0.54.0,<0.58.0,>=0.50.0 (from alibi-detect)\n",
      "  Obtaining dependency information for numba!=0.54.0,<0.58.0,>=0.50.0 from https://files.pythonhosted.org/packages/f3/3e/6349c624303b78b6bbb97168c7fb38a1a0cb1605ae4c5d45af3b829f067a/numba-0.57.1-cp310-cp310-win_amd64.whl.metadata\n",
      "  Using cached numba-0.57.1-cp310-cp310-win_amd64.whl.metadata (2.8 kB)\n",
      "Requirement already satisfied: typing-extensions>=3.7.4.3 in c:\\users\\alpha\\anaconda3\\envs\\cz4042_new\\lib\\site-packages (from alibi-detect) (4.8.0)\n",
      "Requirement already satisfied: contourpy>=1.0.1 in c:\\users\\alpha\\anaconda3\\envs\\cz4042_new\\lib\\site-packages (from matplotlib<4.0.0,>=3.0.0->alibi-detect) (1.1.1)\n",
      "Requirement already satisfied: cycler>=0.10 in c:\\users\\alpha\\anaconda3\\envs\\cz4042_new\\lib\\site-packages (from matplotlib<4.0.0,>=3.0.0->alibi-detect) (0.12.1)\n",
      "Requirement already satisfied: fonttools>=4.22.0 in c:\\users\\alpha\\anaconda3\\envs\\cz4042_new\\lib\\site-packages (from matplotlib<4.0.0,>=3.0.0->alibi-detect) (4.43.1)\n",
      "Requirement already satisfied: kiwisolver>=1.0.1 in c:\\users\\alpha\\anaconda3\\envs\\cz4042_new\\lib\\site-packages (from matplotlib<4.0.0,>=3.0.0->alibi-detect) (1.4.5)\n",
      "Requirement already satisfied: packaging>=20.0 in c:\\users\\alpha\\anaconda3\\envs\\cz4042_new\\lib\\site-packages (from matplotlib<4.0.0,>=3.0.0->alibi-detect) (23.2)\n",
      "Requirement already satisfied: pyparsing>=2.3.1 in c:\\users\\alpha\\anaconda3\\envs\\cz4042_new\\lib\\site-packages (from matplotlib<4.0.0,>=3.0.0->alibi-detect) (3.1.1)\n",
      "Requirement already satisfied: python-dateutil>=2.7 in c:\\users\\alpha\\anaconda3\\envs\\cz4042_new\\lib\\site-packages (from matplotlib<4.0.0,>=3.0.0->alibi-detect) (2.8.2)\n",
      "Collecting llvmlite<0.41,>=0.40.0dev0 (from numba!=0.54.0,<0.58.0,>=0.50.0->alibi-detect)\n",
      "  Obtaining dependency information for llvmlite<0.41,>=0.40.0dev0 from https://files.pythonhosted.org/packages/6c/4f/e6f9dc0b34e5b8450ef757cd35afda999c8cc5098907a512cf0ecae840b5/llvmlite-0.40.1-cp310-cp310-win_amd64.whl.metadata\n",
      "  Using cached llvmlite-0.40.1-cp310-cp310-win_amd64.whl.metadata (4.8 kB)\n",
      "Requirement already satisfied: pytz>=2020.1 in c:\\users\\alpha\\anaconda3\\envs\\cz4042_new\\lib\\site-packages (from pandas<3.0.0,>=1.0.0->alibi-detect) (2023.3.post1)\n",
      "Requirement already satisfied: tzdata>=2022.1 in c:\\users\\alpha\\anaconda3\\envs\\cz4042_new\\lib\\site-packages (from pandas<3.0.0,>=1.0.0->alibi-detect) (2023.3)\n",
      "Requirement already satisfied: charset-normalizer<4,>=2 in c:\\users\\alpha\\anaconda3\\envs\\cz4042_new\\lib\\site-packages (from requests<3.0.0,>=2.21.0->alibi-detect) (2.1.1)\n",
      "Requirement already satisfied: idna<4,>=2.5 in c:\\users\\alpha\\anaconda3\\envs\\cz4042_new\\lib\\site-packages (from requests<3.0.0,>=2.21.0->alibi-detect) (3.4)\n",
      "Requirement already satisfied: urllib3<3,>=1.21.1 in c:\\users\\alpha\\anaconda3\\envs\\cz4042_new\\lib\\site-packages (from requests<3.0.0,>=2.21.0->alibi-detect) (1.26.13)\n",
      "Requirement already satisfied: certifi>=2017.4.17 in c:\\users\\alpha\\anaconda3\\envs\\cz4042_new\\lib\\site-packages (from requests<3.0.0,>=2.21.0->alibi-detect) (2022.12.7)\n",
      "Requirement already satisfied: networkx>=2.8 in c:\\users\\alpha\\anaconda3\\envs\\cz4042_new\\lib\\site-packages (from scikit-image!=0.17.1,<0.22,>=0.14.2->alibi-detect) (3.0)\n",
      "Collecting imageio>=2.27 (from scikit-image!=0.17.1,<0.22,>=0.14.2->alibi-detect)\n",
      "  Obtaining dependency information for imageio>=2.27 from https://files.pythonhosted.org/packages/f6/37/e21e6f38b93878ba80302e95b8ccd4718d80f0c53055ccae343e606b1e2d/imageio-2.31.5-py3-none-any.whl.metadata\n",
      "  Using cached imageio-2.31.5-py3-none-any.whl.metadata (4.6 kB)\n",
      "Collecting tifffile>=2022.8.12 (from scikit-image!=0.17.1,<0.22,>=0.14.2->alibi-detect)\n",
      "  Obtaining dependency information for tifffile>=2022.8.12 from https://files.pythonhosted.org/packages/f5/72/68ea763b5f3e3d9871492683059ed4724fd700dbe54aa03cdda7a9692129/tifffile-2023.9.26-py3-none-any.whl.metadata\n",
      "  Using cached tifffile-2023.9.26-py3-none-any.whl.metadata (30 kB)\n",
      "Collecting PyWavelets>=1.1.1 (from scikit-image!=0.17.1,<0.22,>=0.14.2->alibi-detect)\n",
      "  Using cached PyWavelets-1.4.1-cp310-cp310-win_amd64.whl (4.2 MB)\n",
      "Collecting lazy_loader>=0.2 (from scikit-image!=0.17.1,<0.22,>=0.14.2->alibi-detect)\n",
      "  Obtaining dependency information for lazy_loader>=0.2 from https://files.pythonhosted.org/packages/a1/c3/65b3814e155836acacf720e5be3b5757130346670ac454fee29d3eda1381/lazy_loader-0.3-py3-none-any.whl.metadata\n",
      "  Using cached lazy_loader-0.3-py3-none-any.whl.metadata (4.3 kB)\n",
      "Requirement already satisfied: joblib>=1.1.1 in c:\\users\\alpha\\anaconda3\\envs\\cz4042_new\\lib\\site-packages (from scikit-learn<2.0.0,>=0.20.2->alibi-detect) (1.3.2)\n",
      "Requirement already satisfied: threadpoolctl>=2.0.0 in c:\\users\\alpha\\anaconda3\\envs\\cz4042_new\\lib\\site-packages (from scikit-learn<2.0.0,>=0.20.2->alibi-detect) (3.2.0)\n",
      "Requirement already satisfied: colorama in c:\\users\\alpha\\anaconda3\\envs\\cz4042_new\\lib\\site-packages (from tqdm<5.0.0,>=4.28.1->alibi-detect) (0.4.6)\n",
      "Requirement already satisfied: filelock in c:\\users\\alpha\\anaconda3\\envs\\cz4042_new\\lib\\site-packages (from transformers<5.0.0,>=4.0.0->alibi-detect) (3.9.0)\n",
      "Collecting huggingface-hub<1.0,>=0.16.4 (from transformers<5.0.0,>=4.0.0->alibi-detect)\n",
      "  Obtaining dependency information for huggingface-hub<1.0,>=0.16.4 from https://files.pythonhosted.org/packages/ef/b5/b6107bd65fa4c96fdf00e4733e2fe5729bb9e5e09997f63074bb43d3ab28/huggingface_hub-0.18.0-py3-none-any.whl.metadata\n",
      "  Using cached huggingface_hub-0.18.0-py3-none-any.whl.metadata (13 kB)\n",
      "Requirement already satisfied: pyyaml>=5.1 in c:\\users\\alpha\\anaconda3\\envs\\cz4042_new\\lib\\site-packages (from transformers<5.0.0,>=4.0.0->alibi-detect) (6.0.1)\n",
      "Collecting regex!=2019.12.17 (from transformers<5.0.0,>=4.0.0->alibi-detect)\n",
      "  Obtaining dependency information for regex!=2019.12.17 from https://files.pythonhosted.org/packages/33/03/91c9509b43154795fb848a4cf8cef5b37302b3b3ccf8a9763046ea528c6b/regex-2023.10.3-cp310-cp310-win_amd64.whl.metadata\n",
      "  Using cached regex-2023.10.3-cp310-cp310-win_amd64.whl.metadata (41 kB)\n",
      "Collecting tokenizers<0.15,>=0.14 (from transformers<5.0.0,>=4.0.0->alibi-detect)\n",
      "  Obtaining dependency information for tokenizers<0.15,>=0.14 from https://files.pythonhosted.org/packages/92/02/15556b80450301d2ef014bc598df4352bfb39631c5fcff758d8e0ac9f065/tokenizers-0.14.1-cp310-none-win_amd64.whl.metadata\n",
      "  Using cached tokenizers-0.14.1-cp310-none-win_amd64.whl.metadata (6.8 kB)\n",
      "Collecting safetensors>=0.3.1 (from transformers<5.0.0,>=4.0.0->alibi-detect)\n",
      "  Obtaining dependency information for safetensors>=0.3.1 from https://files.pythonhosted.org/packages/35/c0/d5c1ef78fd9d52913b70574501562c38916927f1778a6baf4f0b80129463/safetensors-0.4.0-cp310-none-win_amd64.whl.metadata\n",
      "  Using cached safetensors-0.4.0-cp310-none-win_amd64.whl.metadata (3.8 kB)\n",
      "Collecting fsspec>=2023.5.0 (from huggingface-hub<1.0,>=0.16.4->transformers<5.0.0,>=4.0.0->alibi-detect)\n",
      "  Obtaining dependency information for fsspec>=2023.5.0 from https://files.pythonhosted.org/packages/fe/d3/e1aa96437d944fbb9cc95d0316e25583886e9cd9e6adc07baad943524eda/fsspec-2023.9.2-py3-none-any.whl.metadata\n",
      "  Using cached fsspec-2023.9.2-py3-none-any.whl.metadata (6.7 kB)\n",
      "Requirement already satisfied: six>=1.5 in c:\\users\\alpha\\anaconda3\\envs\\cz4042_new\\lib\\site-packages (from python-dateutil>=2.7->matplotlib<4.0.0,>=3.0.0->alibi-detect) (1.16.0)\n",
      "Collecting huggingface-hub<1.0,>=0.16.4 (from transformers<5.0.0,>=4.0.0->alibi-detect)\n",
      "  Obtaining dependency information for huggingface-hub<1.0,>=0.16.4 from https://files.pythonhosted.org/packages/aa/f3/3fc97336a0e90516901befd4f500f08d691034d387406fdbde85bea827cc/huggingface_hub-0.17.3-py3-none-any.whl.metadata\n",
      "  Using cached huggingface_hub-0.17.3-py3-none-any.whl.metadata (13 kB)\n",
      "Requirement already satisfied: fsspec in c:\\users\\alpha\\anaconda3\\envs\\cz4042_new\\lib\\site-packages (from huggingface-hub<1.0,>=0.16.4->transformers<5.0.0,>=4.0.0->alibi-detect) (2023.4.0)\n",
      "Using cached alibi_detect-0.11.4-py3-none-any.whl (372 kB)\n",
      "Using cached dill-0.3.7-py3-none-any.whl (115 kB)\n",
      "Using cached numba-0.57.1-cp310-cp310-win_amd64.whl (2.5 MB)\n",
      "Using cached opencv_python-4.8.1.78-cp37-abi3-win_amd64.whl (38.1 MB)\n",
      "Using cached pydantic-1.10.13-cp310-cp310-win_amd64.whl (2.1 MB)\n",
      "Using cached scikit_image-0.21.0-cp310-cp310-win_amd64.whl (22.8 MB)\n",
      "Using cached transformers-4.34.0-py3-none-any.whl (7.7 MB)\n",
      "Using cached imageio-2.31.5-py3-none-any.whl (313 kB)\n",
      "Using cached lazy_loader-0.3-py3-none-any.whl (9.1 kB)\n",
      "Using cached llvmlite-0.40.1-cp310-cp310-win_amd64.whl (27.7 MB)\n",
      "Using cached regex-2023.10.3-cp310-cp310-win_amd64.whl (269 kB)\n",
      "Using cached safetensors-0.4.0-cp310-none-win_amd64.whl (277 kB)\n",
      "Using cached tifffile-2023.9.26-py3-none-any.whl (222 kB)\n",
      "Using cached tokenizers-0.14.1-cp310-none-win_amd64.whl (2.2 MB)\n",
      "Using cached huggingface_hub-0.17.3-py3-none-any.whl (295 kB)\n",
      "Installing collected packages: toml, tifffile, safetensors, regex, PyWavelets, pydantic, opencv-python, llvmlite, lazy_loader, imageio, dill, scikit-image, numba, huggingface-hub, tokenizers, transformers, alibi-detect\n",
      "Successfully installed PyWavelets-1.4.1 alibi-detect-0.11.4 dill-0.3.7 huggingface-hub-0.17.3 imageio-2.31.5 lazy_loader-0.3 llvmlite-0.40.1 numba-0.57.1 opencv-python-4.8.1.78 pydantic-1.10.13 regex-2023.10.3 safetensors-0.4.0 scikit-image-0.21.0 tifffile-2023.9.26 tokenizers-0.14.1 toml-0.10.2 transformers-4.34.0\n"
     ]
    }
   ],
   "source": [
    "!pip install alibi-detect"
   ]
  },
  {
   "cell_type": "code",
   "execution_count": 23,
   "metadata": {
    "id": "E7dD3Ihi4GF9",
    "pycharm": {
     "name": "#%%\n"
    }
   },
   "outputs": [],
   "source": [
    "SEED = 42\n",
    "\n",
    "import os\n",
    "\n",
    "import random\n",
    "random.seed(SEED)\n",
    "\n",
    "import numpy as np\n",
    "np.random.seed(SEED)\n",
    "\n",
    "import pandas as pd\n",
    "\n",
    "from alibi_detect.cd import TabularDrift\n",
    "\n",
    "import pytorch_tabular\n",
    "from sklearn.metrics import r2_score"
   ]
  },
  {
   "cell_type": "markdown",
   "metadata": {
    "id": "xJjXNMOqcHVJ",
    "pycharm": {
     "name": "#%% md\n"
    }
   },
   "source": [
    "> Evaluate your model from B1 on data from year 2022 and report the test R2."
   ]
  },
  {
   "cell_type": "code",
   "execution_count": 24,
   "metadata": {
    "id": "fOUcXL5OXASY",
    "pycharm": {
     "name": "#%%\n"
    }
   },
   "outputs": [
    {
     "name": "stderr",
     "output_type": "stream",
     "text": [
      "2023-10-13 20:03:12,486 - {pytorch_tabular.tabular_model:129} - INFO - Experiment Tracking is turned off\n",
      "2023-10-13 20:03:12,497 - {pytorch_tabular.tabular_model:268} - INFO - Preparing the Trainer\n",
      "C:\\Users\\alpha\\anaconda3\\envs\\cz4042_helpme\\lib\\site-packages\\pytorch_lightning\\trainer\\connectors\\accelerator_connector.py:589: LightningDeprecationWarning: The Trainer argument `auto_select_gpus` has been deprecated in v1.9.0 and will be removed in v2.0.0. Please use the function `pytorch_lightning.accelerators.find_usable_cuda_devices` instead.\n",
      "  rank_zero_deprecation(\n",
      "Trainer already configured with model summary callbacks: [<class 'pytorch_lightning.callbacks.rich_model_summary.RichModelSummary'>]. Skipping setting a default `ModelSummary` callback.\n",
      "GPU available: False, used: False\n",
      "TPU available: False, using: 0 TPU cores\n",
      "IPU available: False, using: 0 IPUs\n",
      "HPU available: False, using: 0 HPUs\n"
     ]
    },
    {
     "data": {
      "text/plain": "Output()",
      "application/vnd.jupyter.widget-view+json": {
       "version_major": 2,
       "version_minor": 0,
       "model_id": "55a24571729a4d249d3d83b99075b204"
      }
     },
     "metadata": {},
     "output_type": "display_data"
    },
    {
     "data": {
      "text/plain": "",
      "text/html": "<pre style=\"white-space:pre;overflow-x:auto;line-height:normal;font-family:Menlo,'DejaVu Sans Mono',consolas,'Courier New',monospace\"></pre>\n"
     },
     "metadata": {},
     "output_type": "display_data"
    },
    {
     "data": {
      "text/plain": "\n",
      "text/html": "<pre style=\"white-space:pre;overflow-x:auto;line-height:normal;font-family:Menlo,'DejaVu Sans Mono',consolas,'Courier New',monospace\">\n</pre>\n"
     },
     "metadata": {},
     "output_type": "display_data"
    },
    {
     "name": "stdout",
     "output_type": "stream",
     "text": [
      "R^2: 0.4388472038478126\n"
     ]
    }
   ],
   "source": [
    "df = pd.read_csv('hdb_price_prediction.csv')\n",
    "\n",
    "# TODO: Enter your code here\n",
    "dir = 'saved_models/part_B_1'\n",
    "tabular_model = pytorch_tabular.tabular_model.TabularModel.load_model(dir)\n",
    "\n",
    "df_2022 = df[df['year'] == 2022]\n",
    "pred_df = tabular_model.predict(df_2022)\n",
    "\n",
    "r2 = r2_score(pred_df['resale_price'], pred_df['resale_price_prediction'])\n",
    "print(f\"R^2: {r2}\")"
   ]
  },
  {
   "cell_type": "markdown",
   "metadata": {
    "id": "Gsbs0iMiaUy-",
    "pycharm": {
     "name": "#%% md\n"
    }
   },
   "source": [
    "> Evaluate your model from B1 on data from year 2023 and report the test R2."
   ]
  },
  {
   "cell_type": "code",
   "execution_count": 25,
   "metadata": {
    "id": "B4FLRQfBaRS-",
    "pycharm": {
     "name": "#%%\n"
    }
   },
   "outputs": [
    {
     "data": {
      "text/plain": "Output()",
      "application/vnd.jupyter.widget-view+json": {
       "version_major": 2,
       "version_minor": 0,
       "model_id": "277d1e3973fe4cfdbeed18fecb08293a"
      }
     },
     "metadata": {},
     "output_type": "display_data"
    },
    {
     "data": {
      "text/plain": "",
      "text/html": "<pre style=\"white-space:pre;overflow-x:auto;line-height:normal;font-family:Menlo,'DejaVu Sans Mono',consolas,'Courier New',monospace\"></pre>\n"
     },
     "metadata": {},
     "output_type": "display_data"
    },
    {
     "data": {
      "text/plain": "\n",
      "text/html": "<pre style=\"white-space:pre;overflow-x:auto;line-height:normal;font-family:Menlo,'DejaVu Sans Mono',consolas,'Courier New',monospace\">\n</pre>\n"
     },
     "metadata": {},
     "output_type": "display_data"
    },
    {
     "name": "stdout",
     "output_type": "stream",
     "text": [
      "R^2 for 2023: 0.16212585514427558\n"
     ]
    }
   ],
   "source": [
    "# TODO: Enter your code here\n",
    "# Filter the dataset for the year 2023\n",
    "df_2023 = df[df['year'] == 2023]\n",
    "\n",
    "# Use the tabular model to predict resale prices for the year 2023\n",
    "pred_df = tabular_model.predict(df_2023)\n",
    "\n",
    "# Calculate the R^2 score for model evaluation\n",
    "r2 = r2_score(pred_df['resale_price'], pred_df['resale_price_prediction'])\n",
    "\n",
    "# Print the R^2 score for the year 2023\n",
    "print(f\"R^2 for 2023: {r2}\")"
   ]
  },
  {
   "cell_type": "markdown",
   "metadata": {
    "id": "11mU8sxcaSAP",
    "pycharm": {
     "name": "#%% md\n"
    }
   },
   "source": [
    "> Did model degradation occur for the deep learning model?\n"
   ]
  },
  {
   "cell_type": "markdown",
   "metadata": {
    "id": "nviGacm6aSlf",
    "pycharm": {
     "name": "#%% md\n"
    }
   },
   "source": [
    "Yes, the coefficient of determination, $R^2$, has exhibited a decrease from 0.439 to 0.162."
   ]
  },
  {
   "cell_type": "markdown",
   "metadata": {
    "id": "KyiP8gBAcABD",
    "pycharm": {
     "name": "#%% md\n"
    }
   },
   "source": [
    "\n",
    "\n",
    "---\n",
    "\n",
    "\n",
    "\n",
    "---\n",
    "\n"
   ]
  },
  {
   "cell_type": "markdown",
   "metadata": {
    "id": "ruldtSTDcYzt",
    "pycharm": {
     "name": "#%% md\n"
    }
   },
   "source": [
    "Model degradation could be caused by [various data distribution shifts](https://huyenchip.com/2022/02/07/data-distribution-shifts-and-monitoring.html#data-shift-types): covariate shift (features), label shift and/or concept drift (altered relationship between features and labels).\n",
    "There are various conflicting terminologies in the [literature](https://www.sciencedirect.com/science/article/pii/S0950705122002854#tbl1). Let’s stick to this reference for this assignment.\n",
    "\n",
    "> Using the **Alibi Detect** library, apply the **TabularDrift** function with the training data (year 2019 and before) used as the reference and **detect which features have drifted** in the 2023 test dataset. Before running the statistical tests, ensure you **sample 1000 data points** each from the train and test data. Do not use the whole train/test data. (Hint: use this example as a guide https://docs.seldon.io/projects/alibi-detect/en/stable/examples/cd_chi2ks_adult.html)\n"
   ]
  },
  {
   "cell_type": "code",
   "execution_count": 26,
   "metadata": {
    "id": "nGbdZc3ocYbB",
    "pycharm": {
     "name": "#%%\n"
    }
   },
   "outputs": [],
   "source": [
    "# Define categorical and continuous columns\n",
    "categorical_columns = ['month', 'town', 'flat_model_type', 'storey_range']\n",
    "continuous_columns = ['dist_to_nearest_stn', 'dist_to_dhoby', 'degree_centrality', 'eigenvector_centrality', 'remaining_lease_years', 'floor_area_sqm']\n",
    "target_columns = ['resale_price']\n",
    "\n",
    "# Select relevant columns and create feature names\n",
    "selected_columns = categorical_columns + continuous_columns\n",
    "X = df[selected_columns]\n",
    "y = df[target_columns]\n",
    "feature_names = X.columns.values\n",
    "\n",
    "# Create a category map for categorical columns\n",
    "category_map = {i: df[column].unique().tolist() for i, column in enumerate(categorical_columns)}\n",
    "\n",
    "# Filter the data for reference and test sets\n",
    "df_train = df[df['year'] <= 2019][:1000]  # Reference set\n",
    "df_2023 = df[df['year'] == 2023][:1000]  # Test set\n",
    "\n",
    "# Extract X and y for reference and test sets\n",
    "X_ref = df_train[selected_columns].values\n",
    "y_ref = df_train[target_columns].values\n",
    "X_test = df_2023[selected_columns].values\n",
    "y_test = df_2023[target_columns].values\n",
    "\n",
    "# Create categories_per_feature for TabularDrift\n",
    "categories_per_feature = {i: None for i in category_map.keys()}\n",
    "\n",
    "# Initialize TabularDrift with the reference data\n",
    "cd = TabularDrift(X_ref, p_val=0.05, categories_per_feature=categories_per_feature)"
   ]
  },
  {
   "cell_type": "code",
   "execution_count": 27,
   "outputs": [
    {
     "name": "stdout",
     "output_type": "stream",
     "text": [
      "Drift? Yes\n",
      "Threshold: 0.005\n",
      "The following features have drifted:\n",
      "Categorical Feature: month\n",
      "Drift Detected: No\n",
      "Drift Test Statistic: 0.000\n",
      "P-Value: 1.000\n",
      "\n",
      "Categorical Feature: town\n",
      "Drift Detected: Yes\n",
      "Drift Test Statistic: 667.474\n",
      "P-Value: 0.000\n",
      "\n",
      "Categorical Feature: flat_model_type\n",
      "Drift Detected: Yes\n",
      "Drift Test Statistic: 77.586\n",
      "P-Value: 0.000\n",
      "\n",
      "Categorical Feature: storey_range\n",
      "Drift Detected: Yes\n",
      "Drift Test Statistic: 38.800\n",
      "P-Value: 0.001\n",
      "\n",
      "Continuous Feature: dist_to_nearest_stn\n",
      "Drift Detected: No\n",
      "Drift Test Statistic: 0.055\n",
      "P-Value: 0.094\n",
      "\n",
      "Continuous Feature: dist_to_dhoby\n",
      "Drift Detected: Yes\n",
      "Drift Test Statistic: 0.218\n",
      "P-Value: 0.000\n",
      "\n",
      "Continuous Feature: degree_centrality\n",
      "Drift Detected: No\n",
      "Drift Test Statistic: 0.029\n",
      "P-Value: 0.783\n",
      "\n",
      "Continuous Feature: eigenvector_centrality\n",
      "Drift Detected: Yes\n",
      "Drift Test Statistic: 0.195\n",
      "P-Value: 0.000\n",
      "\n",
      "Continuous Feature: remaining_lease_years\n",
      "Drift Detected: Yes\n",
      "Drift Test Statistic: 0.271\n",
      "P-Value: 0.000\n",
      "\n",
      "Continuous Feature: floor_area_sqm\n",
      "Drift Detected: Yes\n",
      "Drift Test Statistic: 0.134\n",
      "P-Value: 0.000\n",
      "\n"
     ]
    }
   ],
   "source": [
    "# Detect drift and analyze features\n",
    "preds = cd.predict(X_test)\n",
    "labels = ['No', 'Yes']\n",
    "\n",
    "# Print whether drift is detected or not\n",
    "print('Drift? {}'.format(labels[preds['data']['is_drift']]))\n",
    "threshold = preds['data']['threshold']\n",
    "print(\"Threshold:\", threshold)\n",
    "\n",
    "drifted_columns = []\n",
    "\n",
    "# Predict drift at the feature level\n",
    "fpreds = cd.predict(X_test, drift_type='feature')\n",
    "\n",
    "print(\"The following features have drifted:\")\n",
    "\n",
    "# Loop through each feature and analyze drift\n",
    "for f in range(cd.n_features):\n",
    "    feature_type = 'Categorical' if f < len(categorical_columns) else 'Continuous'\n",
    "    feature_name = selected_columns[f]\n",
    "    is_drift = 'Yes' if fpreds['data']['is_drift'][f] else 'No'\n",
    "    distance_statistic = fpreds['data']['distance'][f]\n",
    "    p_value = fpreds['data']['p_val'][f]\n",
    "\n",
    "    # Print information about the feature's drift status\n",
    "    print(f'{feature_type} Feature: {feature_name}')\n",
    "    print(f'Drift Detected: {is_drift}')\n",
    "    print(f'Drift Test Statistic: {distance_statistic:.3f}')\n",
    "    print(f'P-Value: {p_value:.3f}\\n')\n",
    "\n",
    "    if is_drift == 'Yes':\n",
    "        drifted_columns.append(feature_name)\n"
   ],
   "metadata": {
    "collapsed": false,
    "pycharm": {
     "name": "#%%\n"
    }
   }
  },
  {
   "cell_type": "markdown",
   "metadata": {
    "id": "Xmj3qq3PkJUf",
    "pycharm": {
     "name": "#%% md\n"
    }
   },
   "source": [
    "> Assuming that the flurry of housing measures have made an impact on the relationship between all the features and resale_price (i.e. P(Y|X) changes), which type of data distribution shift possibly led to model degradation?\n"
   ]
  },
  {
   "cell_type": "markdown",
   "metadata": {
    "id": "5UOsX4JqkZ9S",
    "pycharm": {
     "name": "#%% md\n"
    }
   },
   "source": [
    "Concept drift"
   ]
  },
  {
   "cell_type": "markdown",
   "metadata": {
    "id": "DM2OoOJdkZj1",
    "pycharm": {
     "name": "#%% md\n"
    }
   },
   "source": [
    "> From your analysis via TabularDrift, which features contribute to this shift?\n"
   ]
  },
  {
   "cell_type": "markdown",
   "metadata": {
    "id": "V3licBjskdLL",
    "pycharm": {
     "name": "#%% md\n"
    }
   },
   "source": [
    "These variables:"
   ]
  },
  {
   "cell_type": "code",
   "execution_count": 28,
   "outputs": [
    {
     "data": {
      "text/plain": "['town',\n 'flat_model_type',\n 'storey_range',\n 'dist_to_dhoby',\n 'eigenvector_centrality',\n 'remaining_lease_years',\n 'floor_area_sqm']"
     },
     "execution_count": 28,
     "metadata": {},
     "output_type": "execute_result"
    }
   ],
   "source": [
    "drifted_columns"
   ],
   "metadata": {
    "collapsed": false,
    "pycharm": {
     "name": "#%%\n"
    }
   }
  },
  {
   "cell_type": "markdown",
   "metadata": {
    "id": "yB3fSvKskhEJ",
    "pycharm": {
     "name": "#%% md\n"
    }
   },
   "source": [
    "> Suggest 1 way to address model degradation and implement it, showing improved test R2 for year 2023.\n"
   ]
  },
  {
   "cell_type": "markdown",
   "metadata": {
    "id": "9UpP7K6Tkglx",
    "pycharm": {
     "name": "#%% md\n"
    }
   },
   "source": [
    "Continuously retrain the model by incorporating and adapting to newly acquired data."
   ]
  },
  {
   "cell_type": "code",
   "execution_count": 29,
   "metadata": {
    "id": "EqFinZObcYXu",
    "pycharm": {
     "name": "#%%\n"
    }
   },
   "outputs": [
    {
     "name": "stderr",
     "output_type": "stream",
     "text": [
      "Global seed set to 42\n",
      "2023-10-13 20:03:13,739 - {pytorch_tabular.tabular_model:473} - INFO - Preparing the DataLoaders\n",
      "2023-10-13 20:03:13,747 - {pytorch_tabular.tabular_datamodule:290} - INFO - Setting up the datamodule for regression task\n",
      "2023-10-13 20:03:13,888 - {pytorch_tabular.tabular_model:521} - INFO - Preparing the Model: CategoryEmbeddingModel\n",
      "2023-10-13 20:03:13,917 - {pytorch_tabular.tabular_model:268} - INFO - Preparing the Trainer\n",
      "C:\\Users\\alpha\\anaconda3\\envs\\cz4042_helpme\\lib\\site-packages\\pytorch_lightning\\trainer\\connectors\\accelerator_connector.py:589: LightningDeprecationWarning: The Trainer argument `auto_select_gpus` has been deprecated in v1.9.0 and will be removed in v2.0.0. Please use the function `pytorch_lightning.accelerators.find_usable_cuda_devices` instead.\n",
      "  rank_zero_deprecation(\n",
      "GPU available: False, used: False\n",
      "TPU available: False, using: 0 TPU cores\n",
      "IPU available: False, using: 0 IPUs\n",
      "HPU available: False, using: 0 HPUs\n",
      "2023-10-13 20:03:13,968 - {pytorch_tabular.tabular_model:573} - INFO - Auto LR Find Started\n",
      "C:\\Users\\alpha\\anaconda3\\envs\\cz4042_helpme\\lib\\site-packages\\pytorch_lightning\\callbacks\\model_checkpoint.py:613: UserWarning: Checkpoint directory C:\\Users\\alpha\\PycharmProjects\\pythonProject3\\saved_models exists and is not empty.\n",
      "  rank_zero_warn(f\"Checkpoint directory {dirpath} exists and is not empty.\")\n",
      "C:\\Users\\alpha\\anaconda3\\envs\\cz4042_helpme\\lib\\site-packages\\pytorch_lightning\\trainer\\connectors\\data_connector.py:224: PossibleUserWarning: The dataloader, train_dataloader, does not have many workers which may be a bottleneck. Consider increasing the value of the `num_workers` argument` (try 16 which is the number of cpus on this machine) in the `DataLoader` init to improve performance.\n",
      "  rank_zero_warn(\n",
      "C:\\Users\\alpha\\anaconda3\\envs\\cz4042_helpme\\lib\\site-packages\\pytorch_lightning\\trainer\\connectors\\data_connector.py:224: PossibleUserWarning: The dataloader, val_dataloader 0, does not have many workers which may be a bottleneck. Consider increasing the value of the `num_workers` argument` (try 16 which is the number of cpus on this machine) in the `DataLoader` init to improve performance.\n",
      "  rank_zero_warn(\n",
      "C:\\Users\\alpha\\anaconda3\\envs\\cz4042_helpme\\lib\\site-packages\\pytorch_lightning\\core\\module.py:493: UserWarning: You called `self.log('valid_loss', ..., logger=True)` but have no logger configured. You can enable one by doing `Trainer(logger=ALogger(...))`\n",
      "  rank_zero_warn(\n",
      "C:\\Users\\alpha\\anaconda3\\envs\\cz4042_helpme\\lib\\site-packages\\pytorch_lightning\\core\\module.py:493: UserWarning: You called `self.log('valid_mean_squared_error', ..., logger=True)` but have no logger configured. You can enable one by doing `Trainer(logger=ALogger(...))`\n",
      "  rank_zero_warn(\n"
     ]
    },
    {
     "data": {
      "text/plain": "Finding best initial lr:   0%|          | 0/100 [00:00<?, ?it/s]",
      "application/vnd.jupyter.widget-view+json": {
       "version_major": 2,
       "version_minor": 0,
       "model_id": "11b323fea7e14fe5a529c55243df17b0"
      }
     },
     "metadata": {},
     "output_type": "display_data"
    },
    {
     "name": "stderr",
     "output_type": "stream",
     "text": [
      "C:\\Users\\alpha\\anaconda3\\envs\\cz4042_helpme\\lib\\site-packages\\pytorch_lightning\\core\\module.py:493: UserWarning: You called `self.log('train_loss', ..., logger=True)` but have no logger configured. You can enable one by doing `Trainer(logger=ALogger(...))`\n",
      "  rank_zero_warn(\n",
      "C:\\Users\\alpha\\anaconda3\\envs\\cz4042_helpme\\lib\\site-packages\\pytorch_lightning\\core\\module.py:493: UserWarning: You called `self.log('train_mean_squared_error', ..., logger=True)` but have no logger configured. You can enable one by doing `Trainer(logger=ALogger(...))`\n",
      "  rank_zero_warn(\n",
      "`Trainer.fit` stopped: `max_steps=100` reached.\n",
      "Learning rate set to 0.5754399373371567\n",
      "Restoring states from the checkpoint path at C:\\Users\\alpha\\PycharmProjects\\pythonProject3\\.lr_find_5a3603dc-5448-4811-ad19-cfcd7ff194e3.ckpt\n",
      "Restored all states from the checkpoint file at C:\\Users\\alpha\\PycharmProjects\\pythonProject3\\.lr_find_5a3603dc-5448-4811-ad19-cfcd7ff194e3.ckpt\n",
      "2023-10-13 20:03:17,293 - {pytorch_tabular.tabular_model:575} - INFO - Suggested LR: 0.5754399373371567. For plot and detailed analysis, use `find_learning_rate` method.\n",
      "2023-10-13 20:03:17,294 - {pytorch_tabular.tabular_model:582} - INFO - Training Started\n"
     ]
    },
    {
     "data": {
      "text/plain": "┏━━━┳━━━━━━━━━━━━━━━━━━┳━━━━━━━━━━━━━━━━━━━━━━━━━━━┳━━━━━━━━┓\n┃\u001B[1;35m \u001B[0m\u001B[1;35m \u001B[0m\u001B[1;35m \u001B[0m┃\u001B[1;35m \u001B[0m\u001B[1;35mName            \u001B[0m\u001B[1;35m \u001B[0m┃\u001B[1;35m \u001B[0m\u001B[1;35mType                     \u001B[0m\u001B[1;35m \u001B[0m┃\u001B[1;35m \u001B[0m\u001B[1;35mParams\u001B[0m\u001B[1;35m \u001B[0m┃\n┡━━━╇━━━━━━━━━━━━━━━━━━╇━━━━━━━━━━━━━━━━━━━━━━━━━━━╇━━━━━━━━┩\n│\u001B[2m \u001B[0m\u001B[2m0\u001B[0m\u001B[2m \u001B[0m│ _backbone        │ CategoryEmbeddingBackbone │  3.0 K │\n│\u001B[2m \u001B[0m\u001B[2m1\u001B[0m\u001B[2m \u001B[0m│ _embedding_layer │ Embedding1dLayer          │  1.6 K │\n│\u001B[2m \u001B[0m\u001B[2m2\u001B[0m\u001B[2m \u001B[0m│ head             │ LinearHead                │     51 │\n│\u001B[2m \u001B[0m\u001B[2m3\u001B[0m\u001B[2m \u001B[0m│ loss             │ MSELoss                   │      0 │\n└───┴──────────────────┴───────────────────────────┴────────┘\n",
      "text/html": "<pre style=\"white-space:pre;overflow-x:auto;line-height:normal;font-family:Menlo,'DejaVu Sans Mono',consolas,'Courier New',monospace\">┏━━━┳━━━━━━━━━━━━━━━━━━┳━━━━━━━━━━━━━━━━━━━━━━━━━━━┳━━━━━━━━┓\n┃<span style=\"color: #800080; text-decoration-color: #800080; font-weight: bold\">   </span>┃<span style=\"color: #800080; text-decoration-color: #800080; font-weight: bold\"> Name             </span>┃<span style=\"color: #800080; text-decoration-color: #800080; font-weight: bold\"> Type                      </span>┃<span style=\"color: #800080; text-decoration-color: #800080; font-weight: bold\"> Params </span>┃\n┡━━━╇━━━━━━━━━━━━━━━━━━╇━━━━━━━━━━━━━━━━━━━━━━━━━━━╇━━━━━━━━┩\n│<span style=\"color: #7f7f7f; text-decoration-color: #7f7f7f\"> 0 </span>│ _backbone        │ CategoryEmbeddingBackbone │  3.0 K │\n│<span style=\"color: #7f7f7f; text-decoration-color: #7f7f7f\"> 1 </span>│ _embedding_layer │ Embedding1dLayer          │  1.6 K │\n│<span style=\"color: #7f7f7f; text-decoration-color: #7f7f7f\"> 2 </span>│ head             │ LinearHead                │     51 │\n│<span style=\"color: #7f7f7f; text-decoration-color: #7f7f7f\"> 3 </span>│ loss             │ MSELoss                   │      0 │\n└───┴──────────────────┴───────────────────────────┴────────┘\n</pre>\n"
     },
     "metadata": {},
     "output_type": "display_data"
    },
    {
     "data": {
      "text/plain": "\u001B[1mTrainable params\u001B[0m: 4.6 K                                                                                            \n\u001B[1mNon-trainable params\u001B[0m: 0                                                                                            \n\u001B[1mTotal params\u001B[0m: 4.6 K                                                                                                \n\u001B[1mTotal estimated model params size (MB)\u001B[0m: 0                                                                          \n",
      "text/html": "<pre style=\"white-space:pre;overflow-x:auto;line-height:normal;font-family:Menlo,'DejaVu Sans Mono',consolas,'Courier New',monospace\"><span style=\"font-weight: bold\">Trainable params</span>: 4.6 K                                                                                            \n<span style=\"font-weight: bold\">Non-trainable params</span>: 0                                                                                            \n<span style=\"font-weight: bold\">Total params</span>: 4.6 K                                                                                                \n<span style=\"font-weight: bold\">Total estimated model params size (MB)</span>: 0                                                                          \n</pre>\n"
     },
     "metadata": {},
     "output_type": "display_data"
    },
    {
     "data": {
      "text/plain": "Output()",
      "application/vnd.jupyter.widget-view+json": {
       "version_major": 2,
       "version_minor": 0,
       "model_id": "be9b7430187345159f86eb0a84801d2e"
      }
     },
     "metadata": {},
     "output_type": "display_data"
    },
    {
     "data": {
      "text/plain": "",
      "text/html": "<pre style=\"white-space:pre;overflow-x:auto;line-height:normal;font-family:Menlo,'DejaVu Sans Mono',consolas,'Courier New',monospace\"></pre>\n"
     },
     "metadata": {},
     "output_type": "display_data"
    },
    {
     "data": {
      "text/plain": "\n",
      "text/html": "<pre style=\"white-space:pre;overflow-x:auto;line-height:normal;font-family:Menlo,'DejaVu Sans Mono',consolas,'Courier New',monospace\">\n</pre>\n"
     },
     "metadata": {},
     "output_type": "display_data"
    },
    {
     "name": "stderr",
     "output_type": "stream",
     "text": [
      "2023-10-13 20:04:57,968 - {pytorch_tabular.tabular_model:584} - INFO - Training the model completed\n",
      "2023-10-13 20:04:57,969 - {pytorch_tabular.tabular_model:1258} - INFO - Loading the best model\n",
      "C:\\Users\\alpha\\anaconda3\\envs\\cz4042_helpme\\lib\\site-packages\\pytorch_lightning\\utilities\\cloud_io.py:33: LightningDeprecationWarning: `pytorch_lightning.utilities.cloud_io.get_filesystem` has been deprecated in v1.8.0 and will be removed in v2.0.0. Please use `lightning_fabric.utilities.cloud_io.get_filesystem` instead.\n",
      "  rank_zero_deprecation(\n"
     ]
    },
    {
     "data": {
      "text/plain": "<pytorch_lightning.trainer.trainer.Trainer at 0x2606eee2020>"
     },
     "execution_count": 29,
     "metadata": {},
     "output_type": "execute_result"
    }
   ],
   "source": [
    "# TODO: Enter your code here\n",
    "tabular_model.fit(train=df[df['year'] <= 2022])"
   ]
  },
  {
   "cell_type": "code",
   "execution_count": 30,
   "outputs": [
    {
     "data": {
      "text/plain": "Output()",
      "application/vnd.jupyter.widget-view+json": {
       "version_major": 2,
       "version_minor": 0,
       "model_id": "902a23106c194915803c0417cfe8a5c9"
      }
     },
     "metadata": {},
     "output_type": "display_data"
    },
    {
     "data": {
      "text/plain": "C:\\Users\\alpha\\anaconda3\\envs\\cz4042_helpme\\lib\\site-packages\\pytorch_lightning\\core\\module.py:493: UserWarning: \nYou called `self.log('test_loss', ..., logger=True)` but have no logger configured. You can enable one by doing \n`Trainer(logger=ALogger(...))`\n  rank_zero_warn(\n",
      "text/html": "<pre style=\"white-space:pre;overflow-x:auto;line-height:normal;font-family:Menlo,'DejaVu Sans Mono',consolas,'Courier New',monospace\">C:\\Users\\alpha\\anaconda3\\envs\\cz4042_helpme\\lib\\site-packages\\pytorch_lightning\\core\\module.py:493: UserWarning: \nYou called `self.log('test_loss', ..., logger=True)` but have no logger configured. You can enable one by doing \n`Trainer(logger=ALogger(...))`\n  rank_zero_warn(\n</pre>\n"
     },
     "metadata": {},
     "output_type": "display_data"
    },
    {
     "data": {
      "text/plain": "C:\\Users\\alpha\\anaconda3\\envs\\cz4042_helpme\\lib\\site-packages\\pytorch_lightning\\core\\module.py:493: UserWarning: \nYou called `self.log('test_mean_squared_error', ..., logger=True)` but have no logger configured. You can enable \none by doing `Trainer(logger=ALogger(...))`\n  rank_zero_warn(\n",
      "text/html": "<pre style=\"white-space:pre;overflow-x:auto;line-height:normal;font-family:Menlo,'DejaVu Sans Mono',consolas,'Courier New',monospace\">C:\\Users\\alpha\\anaconda3\\envs\\cz4042_helpme\\lib\\site-packages\\pytorch_lightning\\core\\module.py:493: UserWarning: \nYou called `self.log('test_mean_squared_error', ..., logger=True)` but have no logger configured. You can enable \none by doing `Trainer(logger=ALogger(...))`\n  rank_zero_warn(\n</pre>\n"
     },
     "metadata": {},
     "output_type": "display_data"
    },
    {
     "name": "stderr",
     "output_type": "stream",
     "text": [
      "C:\\Users\\alpha\\anaconda3\\envs\\cz4042_helpme\\lib\\site-packages\\pytorch_lightning\\trainer\\connectors\\data_connector.py:224: PossibleUserWarning: The dataloader, test_dataloader 0, does not have many workers which may be a bottleneck. Consider increasing the value of the `num_workers` argument` (try 16 which is the number of cpus on this machine) in the `DataLoader` init to improve performance.\n",
      "  rank_zero_warn(\n"
     ]
    },
    {
     "data": {
      "text/plain": "┏━━━━━━━━━━━━━━━━━━━━━━━━━━━┳━━━━━━━━━━━━━━━━━━━━━━━━━━━┓\n┃\u001B[1m \u001B[0m\u001B[1m       Test metric       \u001B[0m\u001B[1m \u001B[0m┃\u001B[1m \u001B[0m\u001B[1m      DataLoader 0       \u001B[0m\u001B[1m \u001B[0m┃\n┡━━━━━━━━━━━━━━━━━━━━━━━━━━━╇━━━━━━━━━━━━━━━━━━━━━━━━━━━┩\n│\u001B[36m \u001B[0m\u001B[36m        test_loss        \u001B[0m\u001B[36m \u001B[0m│\u001B[35m \u001B[0m\u001B[35m      13178378240.0      \u001B[0m\u001B[35m \u001B[0m│\n│\u001B[36m \u001B[0m\u001B[36m test_mean_squared_error \u001B[0m\u001B[36m \u001B[0m│\u001B[35m \u001B[0m\u001B[35m      13178378240.0      \u001B[0m\u001B[35m \u001B[0m│\n└───────────────────────────┴───────────────────────────┘\n",
      "text/html": "<pre style=\"white-space:pre;overflow-x:auto;line-height:normal;font-family:Menlo,'DejaVu Sans Mono',consolas,'Courier New',monospace\">┏━━━━━━━━━━━━━━━━━━━━━━━━━━━┳━━━━━━━━━━━━━━━━━━━━━━━━━━━┓\n┃<span style=\"font-weight: bold\">        Test metric        </span>┃<span style=\"font-weight: bold\">       DataLoader 0        </span>┃\n┡━━━━━━━━━━━━━━━━━━━━━━━━━━━╇━━━━━━━━━━━━━━━━━━━━━━━━━━━┩\n│<span style=\"color: #008080; text-decoration-color: #008080\">         test_loss         </span>│<span style=\"color: #800080; text-decoration-color: #800080\">       13178378240.0       </span>│\n│<span style=\"color: #008080; text-decoration-color: #008080\">  test_mean_squared_error  </span>│<span style=\"color: #800080; text-decoration-color: #800080\">       13178378240.0       </span>│\n└───────────────────────────┴───────────────────────────┘\n</pre>\n"
     },
     "metadata": {},
     "output_type": "display_data"
    },
    {
     "data": {
      "text/plain": "",
      "text/html": "<pre style=\"white-space:pre;overflow-x:auto;line-height:normal;font-family:Menlo,'DejaVu Sans Mono',consolas,'Courier New',monospace\"></pre>\n"
     },
     "metadata": {},
     "output_type": "display_data"
    },
    {
     "data": {
      "text/plain": "\n",
      "text/html": "<pre style=\"white-space:pre;overflow-x:auto;line-height:normal;font-family:Menlo,'DejaVu Sans Mono',consolas,'Courier New',monospace\">\n</pre>\n"
     },
     "metadata": {},
     "output_type": "display_data"
    },
    {
     "data": {
      "text/plain": "Output()",
      "application/vnd.jupyter.widget-view+json": {
       "version_major": 2,
       "version_minor": 0,
       "model_id": "58535721104248629234ded93e7673ce"
      }
     },
     "metadata": {},
     "output_type": "display_data"
    },
    {
     "data": {
      "text/plain": "",
      "text/html": "<pre style=\"white-space:pre;overflow-x:auto;line-height:normal;font-family:Menlo,'DejaVu Sans Mono',consolas,'Courier New',monospace\"></pre>\n"
     },
     "metadata": {},
     "output_type": "display_data"
    },
    {
     "data": {
      "text/plain": "\n",
      "text/html": "<pre style=\"white-space:pre;overflow-x:auto;line-height:normal;font-family:Menlo,'DejaVu Sans Mono',consolas,'Courier New',monospace\">\n</pre>\n"
     },
     "metadata": {},
     "output_type": "display_data"
    },
    {
     "name": "stdout",
     "output_type": "stream",
     "text": [
      "R^2 Score: 0.5529873559271797\n"
     ]
    }
   ],
   "source": [
    "test = df[df['year'] == 2023]\n",
    "\n",
    "result = tabular_model.evaluate(test)\n",
    "pred_df = tabular_model.predict(test)\n",
    "\n",
    "target = pred_df['resale_price']\n",
    "prediction = pred_df['resale_price_prediction']\n",
    "r_squared = r2_score(target, prediction)\n",
    "print(f\"R^2 Score: {r_squared}\")"
   ],
   "metadata": {
    "collapsed": false,
    "pycharm": {
     "name": "#%%\n"
    }
   }
  },
  {
   "cell_type": "markdown",
   "source": [
    "Revisiting model training with more recent data reveals an enhancement in the $R^2$ coefficient, indicative of improved model performance."
   ],
   "metadata": {
    "collapsed": false,
    "pycharm": {
     "name": "#%% md\n"
    }
   }
  },
  {
   "cell_type": "markdown",
   "source": [
    "### Appendix A\n",
    "\n"
   ],
   "metadata": {
    "collapsed": false,
    "pycharm": {
     "name": "#%% md\n"
    }
   }
  },
  {
   "cell_type": "markdown",
   "metadata": {
    "id": "G_ARi2OxbDuZ",
    "pycharm": {
     "name": "#%% md\n"
    }
   },
   "source": [
    "Here are our results from a linear regression model. We used StandardScaler for continuous variables and OneHotEncoder for categorical variables.\n",
    "\n",
    "While 2021 data can be predicted well, test R2 dropped rapidly for 2022 and 2023.\n",
    "\n",
    "| Training set | Test set | Test R2 |\n",
    "|--------------|----------|---------|\n",
    "| Year <= 2020 | 2021     | 0.76    |\n",
    "| Year <= 2020 | **2022**     | 0.41    |\n",
    "| Year <= 2020 | **2023**     | **0.10**   |\n",
    "\n"
   ]
  },
  {
   "cell_type": "markdown",
   "metadata": {
    "id": "vmv91FqgbI8h",
    "pycharm": {
     "name": "#%% md\n"
    }
   },
   "source": [
    "Similarly, a model trained on 2017 data can predict 2018-2021 well (with slight degradation in performance for 2021), but drops drastically in 2022 and 2023.\n",
    "\n",
    "| Training set | Test set | Test R2 |\n",
    "|--------------|----------|---------|\n",
    "| 2017         | 2018     | 0.90    |\n",
    "|              | 2019     | 0.89    |\n",
    "|              | 2020     | 0.87    |\n",
    "|              | 2021     | 0.72    |\n",
    "|              | **2022**     | **0.37**    |\n",
    "|              | **2023**     | **0.09**    |"
   ]
  },
  {
   "cell_type": "markdown",
   "metadata": {
    "id": "ayKGs106bI6S",
    "pycharm": {
     "name": "#%% md\n"
    }
   },
   "source": [
    "With the test set fixed at year 2021, training on data from 2017-2020 still works well on the test data, with minimal degradation. Training sets closer to year 2021 generally do better.\n",
    "\n",
    "| Training set | Test set | Test R2 |\n",
    "|--------------|----------|---------|\n",
    "| 2020         | 2021     | 0.81    |\n",
    "| 2019         | 2021     | 0.75    |\n",
    "| 2018         | 2021     | 0.73    |\n",
    "| 2017         | 2021     | 0.72    |"
   ]
  }
 ],
 "metadata": {
  "colab": {
   "authorship_tag": "ABX9TyNWUKTcEICJ0j/YcXkGkr53",
   "collapsed_sections": [
    "wQG9hZvAaq5g"
   ],
   "provenance": []
  },
  "kernelspec": {
   "name": "cz4042_b",
   "language": "python",
   "display_name": "cz4042_B"
  },
  "language_info": {
   "codemirror_mode": {
    "name": "ipython",
    "version": 3
   },
   "file_extension": ".py",
   "mimetype": "text/x-python",
   "name": "python",
   "nbconvert_exporter": "python",
   "pygments_lexer": "ipython3",
   "version": "3.11.2"
  }
 },
 "nbformat": 4,
 "nbformat_minor": 1
}