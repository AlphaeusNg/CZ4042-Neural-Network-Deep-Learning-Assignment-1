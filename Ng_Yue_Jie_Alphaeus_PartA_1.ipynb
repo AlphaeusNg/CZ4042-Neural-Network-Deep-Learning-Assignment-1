{
 "cells": [
  {
   "cell_type": "markdown",
   "id": "d01f9669-6940-4311-bcf9-e930ba3457f2",
   "metadata": {
    "deletable": false,
    "editable": false,
    "id": "d01f9669-6940-4311-bcf9-e930ba3457f2",
    "nbgrader": {
     "cell_type": "markdown",
     "checksum": "2ad988175a8c2593a35c27c5a89d6ea5",
     "grade": false,
     "grade_id": "a1",
     "locked": true,
     "schema_version": 3,
     "solution": false,
     "task": false
    },
    "pycharm": {
     "name": "#%% md\n"
    },
    "tags": []
   },
   "source": [
    "# Question A1 (15 marks)"
   ]
  },
  {
   "cell_type": "markdown",
   "id": "2fd870a1-6368-4b4f-9cbb-7eac0acda4ec",
   "metadata": {
    "deletable": false,
    "editable": false,
    "id": "2fd870a1-6368-4b4f-9cbb-7eac0acda4ec",
    "nbgrader": {
     "cell_type": "markdown",
     "checksum": "74435a282dd0f8cb4705e88829506c4e",
     "grade": false,
     "grade_id": "a1_overall",
     "locked": true,
     "schema_version": 3,
     "solution": false,
     "task": false
    },
    "pycharm": {
     "name": "#%% md\n"
    },
    "tags": []
   },
   "source": [
    "#### Design a feedforward deep neural network (DNN) which consists of **three** hidden layers of 128 neurons each with ReLU activation function, and an output layer with sigmoid activation function. Apply dropout of probability **0.2** to each of the hidden layers.\n",
    "\n",
    "* note: some cells are non-editable and cannot be filled, but leave them untouched. Fill up only cells which are provided."
   ]
  },
  {
   "cell_type": "code",
   "execution_count": 1,
   "id": "3af871c6-6baa-4eff-b46a-eb7a81faac13",
   "metadata": {
    "deletable": false,
    "editable": false,
    "id": "3af871c6-6baa-4eff-b46a-eb7a81faac13",
    "nbgrader": {
     "cell_type": "code",
     "checksum": "909acb3c7ff3883eb5381eb586615d3b",
     "grade": false,
     "grade_id": "libraries",
     "locked": true,
     "schema_version": 3,
     "solution": false,
     "task": false
    },
    "pycharm": {
     "name": "#%%\n"
    },
    "tags": []
   },
   "outputs": [],
   "source": [
    "import tqdm\n",
    "import time\n",
    "import random\n",
    "import numpy as np\n",
    "import pandas as pd\n",
    "import matplotlib.pyplot as plt\n",
    "\n",
    "import torch\n",
    "from torch import nn\n",
    "from torch.utils.data import Dataset\n",
    "from torch.utils.data import DataLoader\n",
    "\n",
    "from scipy.io import wavfile as wav\n",
    "\n",
    "from sklearn import preprocessing\n",
    "from sklearn.model_selection import KFold\n",
    "from sklearn.model_selection import train_test_split\n",
    "from sklearn.metrics import f1_score, precision_score, recall_score, confusion_matrix\n",
    "\n",
    "from common_utils import set_seed\n",
    "\n",
    "# setting seed\n",
    "set_seed()"
   ]
  },
  {
   "cell_type": "markdown",
   "id": "27828402-6f73-4afc-ad4b-d537b94406fc",
   "metadata": {
    "deletable": false,
    "editable": false,
    "id": "27828402-6f73-4afc-ad4b-d537b94406fc",
    "nbgrader": {
     "cell_type": "markdown",
     "checksum": "238677075e1bc63851fa208a1937b0d0",
     "grade": false,
     "grade_id": "a1_1_2",
     "locked": true,
     "schema_version": 3,
     "solution": false,
     "task": false
    },
    "pycharm": {
     "name": "#%% md\n"
    },
    "tags": []
   },
   "source": [
    "1. Define the model class."
   ]
  },
  {
   "cell_type": "code",
   "execution_count": 2,
   "id": "f0a262dc-01fc-42d3-9554-a2a9b41db5f6",
   "metadata": {
    "deletable": false,
    "id": "f0a262dc-01fc-42d3-9554-a2a9b41db5f6",
    "nbgrader": {
     "cell_type": "code",
     "checksum": "ffe9e91761659732c1cda9441c248079",
     "grade": false,
     "grade_id": "mlp",
     "locked": false,
     "schema_version": 3,
     "solution": true,
     "task": false
    },
    "pycharm": {
     "name": "#%%\n"
    },
    "tags": []
   },
   "outputs": [],
   "source": [
    "class MLP(nn.Module):\n",
    "\n",
    "    def __init__(self, no_features, no_hidden, no_labels):\n",
    "        super().__init__()\n",
    "        self.mlp_stack = nn.Sequential(\n",
    "            # YOUR CODE HERE\n",
    "            # hidden layer 1\n",
    "            nn.Linear(no_features, no_hidden),\n",
    "            nn.ReLU(),\n",
    "            nn.Dropout(p=drop_out),\n",
    "            # hidden layer 2\n",
    "            nn.Linear(no_hidden, no_hidden),\n",
    "            nn.ReLU(),\n",
    "            nn.Dropout(p=drop_out),\n",
    "            # hidden layer 3\n",
    "            nn.Linear(no_hidden, no_hidden),\n",
    "            nn.ReLU(),\n",
    "            nn.Dropout(p=drop_out),\n",
    "            # output layer\n",
    "            nn.Linear(no_hidden, no_labels),\n",
    "            nn.Sigmoid()\n",
    "        )\n",
    "\n",
    "    # YOUR CODE HERE\n",
    "    def forward(self, x):\n",
    "        logits = self.mlp_stack(x)\n",
    "        return logits"
   ]
  },
  {
   "cell_type": "markdown",
   "id": "c508f1a3-1781-403e-a6c8-2133c83cf2c0",
   "metadata": {
    "deletable": false,
    "editable": false,
    "id": "c508f1a3-1781-403e-a6c8-2133c83cf2c0",
    "nbgrader": {
     "cell_type": "markdown",
     "checksum": "8fa5e10c9346a8cc9f313cfdeffb29ad",
     "grade": false,
     "grade_id": "a1_2",
     "locked": true,
     "schema_version": 3,
     "solution": false,
     "task": false
    },
    "pycharm": {
     "name": "#%% md\n"
    },
    "tags": []
   },
   "source": [
    "#### Divide the dataset into a 70:30 ratio for training and testing. Use **appropriate** scaling of input features. We solely assume that there are only two datasets here: training & test."
   ]
  },
  {
   "cell_type": "markdown",
   "id": "e95fca82-4f7a-4017-8990-e36a78db1560",
   "metadata": {
    "deletable": false,
    "editable": false,
    "id": "e95fca82-4f7a-4017-8990-e36a78db1560",
    "nbgrader": {
     "cell_type": "markdown",
     "checksum": "5b42952eb98d955700c9f15482aa73f1",
     "grade": false,
     "grade_id": "a1_2_1",
     "locked": true,
     "schema_version": 3,
     "solution": false,
     "task": false
    },
    "pycharm": {
     "name": "#%% md\n"
    },
    "tags": []
   },
   "source": [
    "1. Split the dataset and do preprocessing."
   ]
  },
  {
   "cell_type": "code",
   "execution_count": 3,
   "id": "c5fa518e-36fc-4071-839f-65766fe06f67",
   "metadata": {
    "deletable": false,
    "id": "c5fa518e-36fc-4071-839f-65766fe06f67",
    "nbgrader": {
     "cell_type": "code",
     "checksum": "7f3aaa6c1bc49a791e2d944fbffa3785",
     "grade": false,
     "grade_id": "preprocess",
     "locked": false,
     "schema_version": 3,
     "solution": true,
     "task": false
    },
    "pycharm": {
     "name": "#%%\n"
    },
    "scrolled": true,
    "tags": []
   },
   "outputs": [],
   "source": [
    "from common_utils import split_dataset, preprocess_dataset\n",
    "\n",
    "\n",
    "def preprocess(df):\n",
    "    # YOUR CODE HERE\n",
    "    X_train_scaled, y_train, X_test_scaled, y_test = split_dataset(df, columns_to_drop=[\"filename\", \"label\"], test_size=0.3, random_state=0)\n",
    "    X_train_scaled, X_test_scaled = preprocess_dataset(X_train_scaled, X_test_scaled)\n",
    "    \n",
    "    return X_train_scaled, y_train, X_test_scaled, y_test"
   ]
  },
  {
   "cell_type": "code",
   "execution_count": 4,
   "id": "52d2caa3-82e3-42a1-b2b2-9d7025fe9e47",
   "metadata": {
    "deletable": false,
    "editable": false,
    "id": "52d2caa3-82e3-42a1-b2b2-9d7025fe9e47",
    "nbgrader": {
     "cell_type": "code",
     "checksum": "c00bd6df39380d7a83a15f62195f2c8c",
     "grade": true,
     "grade_id": "correct_preprocess",
     "locked": true,
     "points": 1,
     "schema_version": 3,
     "solution": false,
     "task": false
    },
    "pycharm": {
     "name": "#%%\n"
    },
    "tags": []
   },
   "outputs": [
    {
     "name": "stdout",
     "output_type": "stream",
     "text": [
      "label\n",
      "pos    6202\n",
      "neg    5855\n",
      "Name: count, dtype: int64\n"
     ]
    }
   ],
   "source": [
    "df = pd.read_csv('simplified.csv')\n",
    "df['label'] = df['filename'].str.split('_').str[-2]\n",
    "\n",
    "print(df['label'].value_counts())\n",
    "\n",
    "X_train_scaled, y_train, X_test_scaled, y_test = preprocess(df)"
   ]
  },
  {
   "cell_type": "markdown",
   "id": "a819454c-0064-4d88-a35d-b54a3027f52f",
   "metadata": {
    "deletable": false,
    "editable": false,
    "id": "a819454c-0064-4d88-a35d-b54a3027f52f",
    "nbgrader": {
     "cell_type": "markdown",
     "checksum": "58c39624353d30c202964d96c43a724f",
     "grade": false,
     "grade_id": "a1_3",
     "locked": true,
     "schema_version": 3,
     "solution": false,
     "task": false
    },
    "pycharm": {
     "name": "#%% md\n"
    },
    "tags": []
   },
   "source": [
    "#### Use the training dataset to train the model for 100 epochs. Use a mini-batch gradient descent with **‘Adam’** optimizer with learning rate of **0.001**, and **batch size = 256**. Implement early stopping with patience of **3**."
   ]
  },
  {
   "cell_type": "markdown",
   "id": "fc79c097-e526-474a-803f-354465ac02d7",
   "metadata": {
    "deletable": false,
    "editable": false,
    "id": "fc79c097-e526-474a-803f-354465ac02d7",
    "nbgrader": {
     "cell_type": "markdown",
     "checksum": "45710c8274bd2b7689ccd170af7be67c",
     "grade": false,
     "grade_id": "a1_3_1",
     "locked": true,
     "schema_version": 3,
     "solution": false,
     "task": false
    },
    "pycharm": {
     "name": "#%% md\n"
    },
    "tags": []
   },
   "source": [
    "1. Define a Pytorch Dataset and Dataloaders.  "
   ]
  },
  {
   "cell_type": "code",
   "execution_count": 5,
   "id": "578b3050-9720-432b-9ef0-c29feba29e68",
   "metadata": {
    "deletable": false,
    "id": "578b3050-9720-432b-9ef0-c29feba29e68",
    "nbgrader": {
     "cell_type": "code",
     "checksum": "808e279fafed9a2b06f06e824dc5fffe",
     "grade": false,
     "grade_id": "pytorch_dataset",
     "locked": false,
     "schema_version": 3,
     "solution": true,
     "task": false
    },
    "pycharm": {
     "name": "#%%\n"
    },
    "tags": []
   },
   "outputs": [],
   "source": [
    "class CustomDataset(Dataset):\n",
    "    # YOUR CODE HERE\n",
    "    def __init__(self, X, y):\n",
    "        self.X = torch.tensor(X, dtype=torch.float)\n",
    "        self.y = torch.tensor(y, dtype=torch.float).unsqueeze(1)\n",
    "\n",
    "    def __len__(self):\n",
    "        return len(self.y)\n",
    "\n",
    "    def __getitem__(self, idx):\n",
    "        x = self.X[idx]\n",
    "        label = self.y[idx]\n",
    "        return x, label\n",
    "\n",
    "\n",
    "def intialise_loaders(X_train_scaled, y_train, X_test_scaled, y_test):\n",
    "    # YOUR CODE HERE\n",
    "    train_dataset = CustomDataset(X_train_scaled, y_train)\n",
    "    test_dataset = CustomDataset(X_test_scaled, y_test)\n",
    "\n",
    "    train_dataloader = DataLoader(train_dataset, batch_size=256, shuffle=True)\n",
    "    test_dataloader = DataLoader(test_dataset, batch_size=256, shuffle=True)\n",
    "    \n",
    "    return train_dataloader, test_dataloader"
   ]
  },
  {
   "cell_type": "code",
   "execution_count": 6,
   "outputs": [],
   "source": [
    "train_dataloader, test_dataloader = intialise_loaders(X_train_scaled, y_train, X_test_scaled, y_test)"
   ],
   "metadata": {
    "collapsed": false,
    "pycharm": {
     "name": "#%%\n"
    }
   }
  },
  {
   "cell_type": "markdown",
   "id": "648cceb4-adb2-4e4d-bcc5-6cb9f9e252c6",
   "metadata": {
    "deletable": false,
    "editable": false,
    "id": "648cceb4-adb2-4e4d-bcc5-6cb9f9e252c6",
    "nbgrader": {
     "cell_type": "markdown",
     "checksum": "18d61ee1922cd394e81ef773a74489eb",
     "grade": false,
     "grade_id": "a1_3_3",
     "locked": true,
     "schema_version": 3,
     "solution": false,
     "task": false
    },
    "pycharm": {
     "name": "#%% md\n"
    },
    "tags": []
   },
   "source": [
    "2. Next, define the model, optimizer and loss function."
   ]
  },
  {
   "cell_type": "code",
   "execution_count": 7,
   "id": "6608f93a-891f-4bbf-b066-761b56b542df",
   "metadata": {
    "deletable": false,
    "id": "6608f93a-891f-4bbf-b066-761b56b542df",
    "nbgrader": {
     "cell_type": "code",
     "checksum": "b3b057f96943875a86bf5e3bf1cbceb6",
     "grade": false,
     "grade_id": "model_optimizer",
     "locked": false,
     "schema_version": 3,
     "solution": true,
     "task": false
    },
    "pycharm": {
     "name": "#%%\n"
    },
    "tags": []
   },
   "outputs": [],
   "source": [
    "# YOUR CODE HERE\n",
    "# Hyperparameters\n",
    "drop_out = 0.2\n",
    "no_features = 77 # 77 from number of features in the dataset\n",
    "no_hidden = 128\n",
    "no_labels = 1 # label = positive or negative emotions, so 1. (aim is to determine the speech polarity of the engineered)\n",
    "lr = 0.001\n",
    "\n",
    "model = MLP(no_features=no_features, no_hidden=no_hidden, no_labels=no_labels)\n",
    "optimizer = torch.optim.Adam(model.parameters(), lr=lr)\n",
    "loss_fn = nn.BCELoss()"
   ]
  },
  {
   "cell_type": "markdown",
   "id": "20e178c6-bc5a-4932-9a0a-9a8ab5189c78",
   "metadata": {
    "deletable": false,
    "editable": false,
    "id": "20e178c6-bc5a-4932-9a0a-9a8ab5189c78",
    "nbgrader": {
     "cell_type": "markdown",
     "checksum": "7831e2b9dd6b053fce7ebc058a3c5574",
     "grade": false,
     "grade_id": "a1_3_5",
     "locked": true,
     "schema_version": 3,
     "solution": false,
     "task": false
    },
    "pycharm": {
     "name": "#%% md\n"
    },
    "tags": []
   },
   "source": [
    "3. Train model for 100 epochs. Record down train and test accuracies. Implement early stopping."
   ]
  },
  {
   "cell_type": "code",
   "execution_count": 8,
   "id": "64b03d13",
   "metadata": {
    "collapsed": false,
    "jupyter": {
     "outputs_hidden": false
    },
    "pycharm": {
     "name": "#%%\n"
    }
   },
   "outputs": [],
   "source": [
    "def train_loop(train_dataloader, model, loss_fn, optimizer):\n",
    "    # Initialize variables to track loss and accuracy\n",
    "    train_loss, correct = 0, 0\n",
    "    num_batches = len(train_dataloader)\n",
    "\n",
    "    for batch, (X, y) in enumerate(train_dataloader):\n",
    "        # Forward pass: Compute prediction and loss\n",
    "        pred = model(X)\n",
    "        loss = loss_fn(pred, y)\n",
    "\n",
    "        # Compute accuracy\n",
    "        correct += (pred.round() == y).type(torch.float).sum().item()\n",
    "        train_loss += loss.item()\n",
    "\n",
    "        # Backpropagation: Clear gradients, compute gradients, and update weights\n",
    "        optimizer.zero_grad()\n",
    "        loss.backward()\n",
    "        optimizer.step()\n",
    "\n",
    "        if batch % 10 == 0:\n",
    "            loss, current = loss.item(), (batch + 1) * len(X)\n",
    "            print(f\"loss: {loss:>7f}  [{current:>5d}/{len(train_dataloader.dataset):>5d}]\")\n",
    "\n",
    "    # Calculate average loss and accuracy\n",
    "    train_loss /= num_batches\n",
    "    correct /= len(train_dataloader.dataset)\n",
    "    print(f\"Train Error: \\n Accuracy: {(correct*100):>0.1f}%, Avg loss: {train_loss:>8f} \\n\")\n",
    "    return train_loss, correct\n",
    "\n",
    "def test_loop(test_dataloader, model, loss_fn):\n",
    "    # Initialize variables to track loss and accuracy\n",
    "    test_loss, correct = 0, 0\n",
    "    num_batches = len(test_dataloader)\n",
    "\n",
    "    with torch.no_grad():\n",
    "        for X, y in test_dataloader:\n",
    "            # Forward pass: Compute prediction\n",
    "            pred = model(X)\n",
    "\n",
    "            # Compute test loss\n",
    "            test_loss += loss_fn(pred, y).item()\n",
    "\n",
    "            # Compute accuracy\n",
    "            correct += (pred.round() == y).type(torch.float).sum().item()\n",
    "\n",
    "    # Calculate average loss and accuracy\n",
    "    test_loss /= num_batches\n",
    "    correct /= len(test_dataloader.dataset)\n",
    "    print(f\"Test Error: \\n Accuracy: {(correct*100):>0.1f}%, Avg loss: {test_loss:>8f} \\n\")\n",
    "\n",
    "    return test_loss, correct"
   ]
  },
  {
   "cell_type": "code",
   "execution_count": 12,
   "id": "51799de7",
   "metadata": {
    "collapsed": false,
    "jupyter": {
     "outputs_hidden": false
    },
    "pycharm": {
     "name": "#%%\n"
    }
   },
   "outputs": [
    {
     "name": "stdout",
     "output_type": "stream",
     "text": [
      "Epoch 1\n",
      "-------------------------------\n",
      "loss: 0.697151  [  256/ 8439]\n",
      "loss: 0.686059  [ 2816/ 8439]\n",
      "loss: 0.687299  [ 5376/ 8439]\n",
      "loss: 0.670696  [ 7936/ 8439]\n",
      "Train Error: \n",
      " Accuracy: 53.5%, Avg loss: 0.687970 \n",
      "\n",
      "Test Error: \n",
      " Accuracy: 56.4%, Avg loss: 0.684445 \n",
      "\n",
      "Epoch 2\n",
      "-------------------------------\n",
      "loss: 0.665102  [  256/ 8439]\n",
      "loss: 0.674605  [ 2816/ 8439]\n",
      "loss: 0.678376  [ 5376/ 8439]\n",
      "loss: 0.685063  [ 7936/ 8439]\n",
      "Train Error: \n",
      " Accuracy: 58.3%, Avg loss: 0.674815 \n",
      "\n",
      "Test Error: \n",
      " Accuracy: 57.7%, Avg loss: 0.676691 \n",
      "\n",
      "Epoch 3\n",
      "-------------------------------\n",
      "loss: 0.665106  [  256/ 8439]\n",
      "loss: 0.678294  [ 2816/ 8439]\n",
      "loss: 0.641328  [ 5376/ 8439]\n",
      "loss: 0.669834  [ 7936/ 8439]\n",
      "Train Error: \n",
      " Accuracy: 60.8%, Avg loss: 0.657509 \n",
      "\n",
      "Test Error: \n",
      " Accuracy: 60.3%, Avg loss: 0.656677 \n",
      "\n",
      "Epoch 4\n",
      "-------------------------------\n",
      "loss: 0.636162  [  256/ 8439]\n",
      "loss: 0.656328  [ 2816/ 8439]\n",
      "loss: 0.659292  [ 5376/ 8439]\n",
      "loss: 0.629169  [ 7936/ 8439]\n",
      "Train Error: \n",
      " Accuracy: 62.2%, Avg loss: 0.648382 \n",
      "\n",
      "Test Error: \n",
      " Accuracy: 61.9%, Avg loss: 0.660925 \n",
      "\n",
      "Epoch 5\n",
      "-------------------------------\n",
      "loss: 0.668626  [  256/ 8439]\n",
      "loss: 0.638065  [ 2816/ 8439]\n",
      "loss: 0.655602  [ 5376/ 8439]\n",
      "loss: 0.649101  [ 7936/ 8439]\n",
      "Train Error: \n",
      " Accuracy: 64.1%, Avg loss: 0.631622 \n",
      "\n",
      "Test Error: \n",
      " Accuracy: 62.3%, Avg loss: 0.652452 \n",
      "\n",
      "Epoch 6\n",
      "-------------------------------\n",
      "loss: 0.595552  [  256/ 8439]\n",
      "loss: 0.616511  [ 2816/ 8439]\n",
      "loss: 0.611851  [ 5376/ 8439]\n",
      "loss: 0.622853  [ 7936/ 8439]\n",
      "Train Error: \n",
      " Accuracy: 65.2%, Avg loss: 0.620410 \n",
      "\n",
      "Test Error: \n",
      " Accuracy: 63.4%, Avg loss: 0.641471 \n",
      "\n",
      "Epoch 7\n",
      "-------------------------------\n",
      "loss: 0.602881  [  256/ 8439]\n",
      "loss: 0.593963  [ 2816/ 8439]\n",
      "loss: 0.646239  [ 5376/ 8439]\n",
      "loss: 0.557957  [ 7936/ 8439]\n",
      "Train Error: \n",
      " Accuracy: 66.9%, Avg loss: 0.606311 \n",
      "\n",
      "Test Error: \n",
      " Accuracy: 64.1%, Avg loss: 0.637003 \n",
      "\n",
      "Epoch 8\n",
      "-------------------------------\n",
      "loss: 0.620268  [  256/ 8439]\n",
      "loss: 0.577636  [ 2816/ 8439]\n",
      "loss: 0.571362  [ 5376/ 8439]\n",
      "loss: 0.590593  [ 7936/ 8439]\n",
      "Train Error: \n",
      " Accuracy: 69.0%, Avg loss: 0.585854 \n",
      "\n",
      "Test Error: \n",
      " Accuracy: 63.5%, Avg loss: 0.644641 \n",
      "\n",
      "Epoch 9\n",
      "-------------------------------\n",
      "loss: 0.579450  [  256/ 8439]\n",
      "loss: 0.533934  [ 2816/ 8439]\n",
      "loss: 0.574114  [ 5376/ 8439]\n",
      "loss: 0.563415  [ 7936/ 8439]\n",
      "Train Error: \n",
      " Accuracy: 69.2%, Avg loss: 0.577000 \n",
      "\n",
      "Test Error: \n",
      " Accuracy: 64.2%, Avg loss: 0.632893 \n",
      "\n",
      "Epoch 10\n",
      "-------------------------------\n",
      "loss: 0.560084  [  256/ 8439]\n",
      "loss: 0.565579  [ 2816/ 8439]\n",
      "loss: 0.580521  [ 5376/ 8439]\n",
      "loss: 0.521755  [ 7936/ 8439]\n",
      "Train Error: \n",
      " Accuracy: 70.0%, Avg loss: 0.562320 \n",
      "\n",
      "Test Error: \n",
      " Accuracy: 65.5%, Avg loss: 0.629515 \n",
      "\n",
      "Epoch 11\n",
      "-------------------------------\n",
      "loss: 0.525724  [  256/ 8439]\n",
      "loss: 0.573296  [ 2816/ 8439]\n",
      "loss: 0.589218  [ 5376/ 8439]\n",
      "loss: 0.543326  [ 7936/ 8439]\n",
      "Train Error: \n",
      " Accuracy: 72.0%, Avg loss: 0.546692 \n",
      "\n",
      "Test Error: \n",
      " Accuracy: 66.1%, Avg loss: 0.623319 \n",
      "\n",
      "Epoch 12\n",
      "-------------------------------\n",
      "loss: 0.532155  [  256/ 8439]\n",
      "loss: 0.547656  [ 2816/ 8439]\n",
      "loss: 0.574958  [ 5376/ 8439]\n",
      "loss: 0.570357  [ 7936/ 8439]\n",
      "Train Error: \n",
      " Accuracy: 72.2%, Avg loss: 0.532413 \n",
      "\n",
      "Test Error: \n",
      " Accuracy: 68.3%, Avg loss: 0.601364 \n",
      "\n",
      "Epoch 13\n",
      "-------------------------------\n",
      "loss: 0.565684  [  256/ 8439]\n",
      "loss: 0.541573  [ 2816/ 8439]\n",
      "loss: 0.542145  [ 5376/ 8439]\n",
      "loss: 0.572564  [ 7936/ 8439]\n",
      "Train Error: \n",
      " Accuracy: 73.3%, Avg loss: 0.529425 \n",
      "\n",
      "Test Error: \n",
      " Accuracy: 67.2%, Avg loss: 0.624668 \n",
      "\n",
      "Epoch 14\n",
      "-------------------------------\n",
      "loss: 0.474438  [  256/ 8439]\n",
      "loss: 0.470252  [ 2816/ 8439]\n",
      "loss: 0.531832  [ 5376/ 8439]\n",
      "loss: 0.558492  [ 7936/ 8439]\n",
      "Train Error: \n",
      " Accuracy: 74.5%, Avg loss: 0.512710 \n",
      "\n",
      "Test Error: \n",
      " Accuracy: 67.2%, Avg loss: 0.627349 \n",
      "\n",
      "Epoch 15\n",
      "-------------------------------\n",
      "loss: 0.503991  [  256/ 8439]\n",
      "loss: 0.518375  [ 2816/ 8439]\n",
      "loss: 0.500800  [ 5376/ 8439]\n",
      "loss: 0.504929  [ 7936/ 8439]\n",
      "Train Error: \n",
      " Accuracy: 75.4%, Avg loss: 0.500501 \n",
      "\n",
      "Test Error: \n",
      " Accuracy: 67.8%, Avg loss: 0.625408 \n",
      "\n",
      "Early stop detected!\n",
      "Training completed!\n"
     ]
    }
   ],
   "source": [
    "# Define hyperparameters\n",
    "patience = 3  # Patience for early stopping\n",
    "num_epochs = 100  # Number of training epochs\n",
    "learning_rate = 0.001  # Learning rate\n",
    "\n",
    "# Initialize EarlyStopper for early stopping\n",
    "from common_utils import EarlyStopper\n",
    "early_stopper = EarlyStopper(patience=patience, min_delta=0)\n",
    "\n",
    "# Lists to track training and testing loss, accuracy\n",
    "train_loss, test_loss = [], []\n",
    "train_acc, test_acc = [], []\n",
    "\n",
    "for epoch in range(num_epochs):\n",
    "    print(f\"Epoch {epoch+1}\\n-------------------------------\")\n",
    "\n",
    "    # Training loop: Compute training loss and accuracy\n",
    "    loss, acc = train_loop(train_dataloader, model, loss_fn, optimizer)\n",
    "    train_loss.append(loss)\n",
    "    train_acc.append(acc)\n",
    "\n",
    "    # Testing loop: Compute testing loss and accuracy\n",
    "    loss, acc = test_loop(test_dataloader, model, loss_fn)\n",
    "    test_loss.append(loss)\n",
    "    test_acc.append(acc)\n",
    "\n",
    "    # Check for early stopping\n",
    "    if early_stopper.early_stop(loss):\n",
    "        print(\"Early stop detected!\")\n",
    "        break\n",
    "\n",
    "print(\"Training completed!\")  # Indicate the end of training"
   ]
  },
  {
   "cell_type": "markdown",
   "id": "5deafd80-4525-4bff-8a5f-dfee0bfede04",
   "metadata": {
    "deletable": false,
    "editable": false,
    "id": "5deafd80-4525-4bff-8a5f-dfee0bfede04",
    "nbgrader": {
     "cell_type": "markdown",
     "checksum": "4f0d29724a79a38566c9153287e31469",
     "grade": false,
     "grade_id": "a1_4",
     "locked": true,
     "schema_version": 3,
     "solution": false,
     "task": false
    },
    "pycharm": {
     "name": "#%% md\n"
    },
    "tags": []
   },
   "source": [
    "#### Plot train and test accuracies and losses on training and test data against training epochs and comment on the line plots.\n"
   ]
  },
  {
   "cell_type": "code",
   "execution_count": 13,
   "id": "b25bf720-a4e3-4e70-b90c-456180f18dcf",
   "metadata": {
    "deletable": false,
    "id": "b25bf720-a4e3-4e70-b90c-456180f18dcf",
    "nbgrader": {
     "cell_type": "code",
     "checksum": "c9ce6934b35dea460dcc15bb9a6dedf4",
     "grade": true,
     "grade_id": "plot",
     "locked": false,
     "points": 0,
     "schema_version": 3,
     "solution": true,
     "task": false
    },
    "pycharm": {
     "name": "#%%\n"
    },
    "tags": []
   },
   "outputs": [
    {
     "data": {
      "text/plain": "<Figure size 600x400 with 1 Axes>",
      "image/png": "[encoded data removed]"
     },
     "metadata": {},
     "output_type": "display_data"
    },
    {
     "data": {
      "text/plain": "<Figure size 600x400 with 1 Axes>",
      "image/png": "[encoded data removed]"
     },
     "metadata": {},
     "output_type": "display_data"
    }
   ],
   "source": [
    "# YOUR CODE HERE\n",
    "# Error\n",
    "fig = plt.figure(figsize=(6,4))\n",
    "plt.plot(range(1,len(train_loss)+1),train_loss, label='Training Loss')\n",
    "plt.plot(range(1,len(test_loss)+1),test_loss,label='Test Loss')\n",
    "plt.title(\"Error\")\n",
    "plt.legend()\n",
    "plt.show()\n",
    "\n",
    "# Accuracy\n",
    "fig = plt.figure(figsize=(6,4))\n",
    "plt.plot(range(1,len(train_acc)+1),train_acc, label='Training Acc')\n",
    "plt.plot(range(1,len(test_acc)+1),test_acc,label='Test Acc')\n",
    "plt.title(\"Accuracy\")\n",
    "plt.legend()\n",
    "plt.show()"
   ]
  },
  {
   "cell_type": "markdown",
   "id": "3307014b-6a6c-406e-a139-94acc919f5f4",
   "metadata": {
    "deletable": false,
    "editable": false,
    "id": "3307014b-6a6c-406e-a139-94acc919f5f4",
    "nbgrader": {
     "cell_type": "markdown",
     "checksum": "0973f053aaa2d1bde7a2261c1d8cd9c4",
     "grade": false,
     "grade_id": "a1_4_2",
     "locked": true,
     "schema_version": 3,
     "solution": false,
     "task": false
    },
    "pycharm": {
     "name": "#%% md\n"
    },
    "tags": []
   },
   "source": [
    "2. Comment on line plots."
   ]
  },
  {
   "cell_type": "markdown",
   "source": [
    "The model demonstrates rapid overfitting, as indicated by the graphical representations. While the training loss steadily decreases, the validation loss exhibits an upward trend (a clear indicator of overfitting).\n",
    "\n",
    "Summary of results:\n",
    "\n",
    "**Training error**: decreases up to epoch 14 and then early stop was triggered.\n",
    "\n",
    "Train Error:\n",
    "`Accuracy: 75.4%`, `Avg loss: 0.500501`\n",
    "\n",
    "**Test error:** was improving until epoch 12, with a score of:\n",
    "\n",
    "Test Error:\n",
    "`Accuracy: 67.8%`, `Avg loss: 0.625408`\n",
    "and then it stopped improving, triggering the early stop."
   ],
   "metadata": {
    "collapsed": false,
    "pycharm": {
     "name": "#%% md\n"
    }
   }
  },
  {
   "cell_type": "code",
   "execution_count": null,
   "outputs": [],
   "source": [],
   "metadata": {
    "collapsed": false,
    "pycharm": {
     "name": "#%%\n"
    }
   }
  }
 ],
 "metadata": {
  "colab": {
   "provenance": []
  },
  "kernelspec": {
   "display_name": "cz4042",
   "language": "python",
   "name": "cz4042"
  },
  "language_info": {
   "codemirror_mode": {
    "name": "ipython",
    "version": 3
   },
   "file_extension": ".py",
   "mimetype": "text/x-python",
   "name": "python",
   "nbconvert_exporter": "python",
   "pygments_lexer": "ipython3",
   "version": "3.11.4"
  }
 },
 "nbformat": 4,
 "nbformat_minor": 5
}