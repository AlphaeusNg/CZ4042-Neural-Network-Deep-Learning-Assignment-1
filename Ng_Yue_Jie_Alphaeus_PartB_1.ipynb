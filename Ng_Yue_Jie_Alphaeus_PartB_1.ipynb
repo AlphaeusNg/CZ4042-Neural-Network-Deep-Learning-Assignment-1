{
 "cells": [
  {
   "cell_type": "markdown",
   "metadata": {
    "id": "jnRX6LUnqBpw",
    "pycharm": {
     "name": "#%% md\n"
    }
   },
   "source": [
    "CS4001/4042 Assignment 1, Part B, Q1\n",
    "---\n",
    "\n",
    "Real world datasets often have a mix of numeric and categorical features – this dataset is one example. To build models on such data, categorical features have to be encoded or embedded.\n",
    "\n",
    "PyTorch Tabular is a library that makes it very convenient to build neural networks for tabular data. It is built on top of PyTorch Lightning, which abstracts away boilerplate model training code and makes it easy to integrate other tools, e.g. TensorBoard for experiment tracking.\n",
    "\n",
    "For questions B1 and B2, the following features should be used:   \n",
    "- **Numeric / Continuous** features: dist_to_nearest_stn, dist_to_dhoby, degree_centrality, eigenvector_centrality, remaining_lease_years, floor_area_sqm\n",
    "- **Categorical** features: month, town, flat_model_type, storey_range"
   ]
  },
  {
   "cell_type": "markdown",
   "metadata": {
    "id": "Kn0j2MRKqKVs",
    "pycharm": {
     "name": "#%% md\n"
    }
   },
   "source": [
    "\n",
    "\n",
    "---\n",
    "\n"
   ]
  },
  {
   "cell_type": "code",
   "execution_count": 11,
   "metadata": {
    "id": "jA67PbIY3PnH",
    "pycharm": {
     "name": "#%%\n"
    }
   },
   "outputs": [
    {
     "name": "stdout",
     "output_type": "stream",
     "text": [
      "Requirement already satisfied: pytorch_tabular[extra] in c:\\users\\alpha\\anaconda3\\envs\\cz4042_new\\lib\\site-packages (1.0.2)\n",
      "Requirement already satisfied: torch>=1.9.0 in c:\\users\\alpha\\anaconda3\\envs\\cz4042_new\\lib\\site-packages (from pytorch_tabular[extra]) (1.13.1)\n",
      "Requirement already satisfied: category-encoders<2.7.0,>=2.6.0 in c:\\users\\alpha\\anaconda3\\envs\\cz4042_new\\lib\\site-packages (from pytorch_tabular[extra]) (2.6.2)\n",
      "Requirement already satisfied: numpy>=1.17.2 in c:\\users\\alpha\\anaconda3\\envs\\cz4042_new\\lib\\site-packages (from pytorch_tabular[extra]) (1.24.1)\n",
      "Requirement already satisfied: pandas>=1.1.5 in c:\\users\\alpha\\anaconda3\\envs\\cz4042_new\\lib\\site-packages (from pytorch_tabular[extra]) (2.1.1)\n",
      "Requirement already satisfied: scikit-learn>=1.0.0 in c:\\users\\alpha\\anaconda3\\envs\\cz4042_new\\lib\\site-packages (from pytorch_tabular[extra]) (1.3.1)\n",
      "Requirement already satisfied: pytorch-lightning<2.0.0,>=1.8.0 in c:\\users\\alpha\\anaconda3\\envs\\cz4042_new\\lib\\site-packages (from pytorch_tabular[extra]) (1.9.5)\n",
      "Requirement already satisfied: omegaconf>=2.1.0 in c:\\users\\alpha\\anaconda3\\envs\\cz4042_new\\lib\\site-packages (from pytorch_tabular[extra]) (2.3.0)\n",
      "Requirement already satisfied: torchmetrics<0.12.0,>=0.10.0 in c:\\users\\alpha\\anaconda3\\envs\\cz4042_new\\lib\\site-packages (from pytorch_tabular[extra]) (0.11.4)\n",
      "Requirement already satisfied: tensorboard!=2.5.0,>2.2.0 in c:\\users\\alpha\\anaconda3\\envs\\cz4042_new\\lib\\site-packages (from pytorch_tabular[extra]) (2.14.1)\n",
      "Requirement already satisfied: protobuf<4.23.0,>=3.20.0 in c:\\users\\alpha\\anaconda3\\envs\\cz4042_new\\lib\\site-packages (from pytorch_tabular[extra]) (4.22.5)\n",
      "Requirement already satisfied: pytorch-tabnet==4.0 in c:\\users\\alpha\\anaconda3\\envs\\cz4042_new\\lib\\site-packages (from pytorch_tabular[extra]) (4.0)\n",
      "Requirement already satisfied: PyYAML<6.1.0,>=5.4 in c:\\users\\alpha\\anaconda3\\envs\\cz4042_new\\lib\\site-packages (from pytorch_tabular[extra]) (6.0.1)\n",
      "Requirement already satisfied: matplotlib>3.1 in c:\\users\\alpha\\anaconda3\\envs\\cz4042_new\\lib\\site-packages (from pytorch_tabular[extra]) (3.8.0)\n",
      "Requirement already satisfied: ipywidgets in c:\\users\\alpha\\anaconda3\\envs\\cz4042_new\\lib\\site-packages (from pytorch_tabular[extra]) (8.1.1)\n",
      "Requirement already satisfied: einops<0.7.0,>=0.6.0 in c:\\users\\alpha\\anaconda3\\envs\\cz4042_new\\lib\\site-packages (from pytorch_tabular[extra]) (0.6.1)\n",
      "Requirement already satisfied: rich>=11.0.0 in c:\\users\\alpha\\anaconda3\\envs\\cz4042_new\\lib\\site-packages (from pytorch_tabular[extra]) (13.6.0)\n",
      "Requirement already satisfied: wandb==0.13.* in c:\\users\\alpha\\anaconda3\\envs\\cz4042_new\\lib\\site-packages (from pytorch_tabular[extra]) (0.13.11)\n",
      "Requirement already satisfied: plotly<5.15.0,>=5.13.0 in c:\\users\\alpha\\anaconda3\\envs\\cz4042_new\\lib\\site-packages (from pytorch_tabular[extra]) (5.14.1)\n",
      "Requirement already satisfied: kaleido==0.2.* in c:\\users\\alpha\\anaconda3\\envs\\cz4042_new\\lib\\site-packages (from pytorch_tabular[extra]) (0.2.1)\n",
      "Requirement already satisfied: scipy>1.4 in c:\\users\\alpha\\anaconda3\\envs\\cz4042_new\\lib\\site-packages (from pytorch-tabnet==4.0->pytorch_tabular[extra]) (1.11.3)\n",
      "Requirement already satisfied: tqdm<5.0,>=4.36 in c:\\users\\alpha\\anaconda3\\envs\\cz4042_new\\lib\\site-packages (from pytorch-tabnet==4.0->pytorch_tabular[extra]) (4.66.1)\n",
      "Requirement already satisfied: Click!=8.0.0,>=7.0 in c:\\users\\alpha\\anaconda3\\envs\\cz4042_new\\lib\\site-packages (from wandb==0.13.*->pytorch_tabular[extra]) (8.1.7)\n",
      "Requirement already satisfied: GitPython!=3.1.29,>=1.0.0 in c:\\users\\alpha\\anaconda3\\envs\\cz4042_new\\lib\\site-packages (from wandb==0.13.*->pytorch_tabular[extra]) (3.1.37)\n",
      "Requirement already satisfied: requests<3,>=2.0.0 in c:\\users\\alpha\\anaconda3\\envs\\cz4042_new\\lib\\site-packages (from wandb==0.13.*->pytorch_tabular[extra]) (2.31.0)\n",
      "Requirement already satisfied: psutil>=5.0.0 in c:\\users\\alpha\\anaconda3\\envs\\cz4042_new\\lib\\site-packages (from wandb==0.13.*->pytorch_tabular[extra]) (5.9.5)\n",
      "Requirement already satisfied: sentry-sdk>=1.0.0 in c:\\users\\alpha\\anaconda3\\envs\\cz4042_new\\lib\\site-packages (from wandb==0.13.*->pytorch_tabular[extra]) (1.32.0)\n",
      "Requirement already satisfied: docker-pycreds>=0.4.0 in c:\\users\\alpha\\anaconda3\\envs\\cz4042_new\\lib\\site-packages (from wandb==0.13.*->pytorch_tabular[extra]) (0.4.0)\n",
      "Requirement already satisfied: pathtools in c:\\users\\alpha\\anaconda3\\envs\\cz4042_new\\lib\\site-packages (from wandb==0.13.*->pytorch_tabular[extra]) (0.1.2)\n",
      "Requirement already satisfied: setproctitle in c:\\users\\alpha\\anaconda3\\envs\\cz4042_new\\lib\\site-packages (from wandb==0.13.*->pytorch_tabular[extra]) (1.3.3)\n",
      "Requirement already satisfied: setuptools in c:\\users\\alpha\\anaconda3\\envs\\cz4042_new\\lib\\site-packages (from wandb==0.13.*->pytorch_tabular[extra]) (68.2.2)\n",
      "Requirement already satisfied: appdirs>=1.4.3 in c:\\users\\alpha\\anaconda3\\envs\\cz4042_new\\lib\\site-packages (from wandb==0.13.*->pytorch_tabular[extra]) (1.4.4)\n",
      "Requirement already satisfied: statsmodels>=0.9.0 in c:\\users\\alpha\\anaconda3\\envs\\cz4042_new\\lib\\site-packages (from category-encoders<2.7.0,>=2.6.0->pytorch_tabular[extra]) (0.14.0)\n",
      "Requirement already satisfied: patsy>=0.5.1 in c:\\users\\alpha\\anaconda3\\envs\\cz4042_new\\lib\\site-packages (from category-encoders<2.7.0,>=2.6.0->pytorch_tabular[extra]) (0.5.3)\n",
      "Requirement already satisfied: contourpy>=1.0.1 in c:\\users\\alpha\\anaconda3\\envs\\cz4042_new\\lib\\site-packages (from matplotlib>3.1->pytorch_tabular[extra]) (1.1.1)\n",
      "Requirement already satisfied: cycler>=0.10 in c:\\users\\alpha\\anaconda3\\envs\\cz4042_new\\lib\\site-packages (from matplotlib>3.1->pytorch_tabular[extra]) (0.12.1)\n",
      "Requirement already satisfied: fonttools>=4.22.0 in c:\\users\\alpha\\anaconda3\\envs\\cz4042_new\\lib\\site-packages (from matplotlib>3.1->pytorch_tabular[extra]) (4.43.1)\n",
      "Requirement already satisfied: kiwisolver>=1.0.1 in c:\\users\\alpha\\anaconda3\\envs\\cz4042_new\\lib\\site-packages (from matplotlib>3.1->pytorch_tabular[extra]) (1.4.5)\n",
      "Requirement already satisfied: packaging>=20.0 in c:\\users\\alpha\\anaconda3\\envs\\cz4042_new\\lib\\site-packages (from matplotlib>3.1->pytorch_tabular[extra]) (23.2)\n",
      "Requirement already satisfied: pillow>=6.2.0 in c:\\users\\alpha\\anaconda3\\envs\\cz4042_new\\lib\\site-packages (from matplotlib>3.1->pytorch_tabular[extra]) (9.3.0)\n",
      "Requirement already satisfied: pyparsing>=2.3.1 in c:\\users\\alpha\\anaconda3\\envs\\cz4042_new\\lib\\site-packages (from matplotlib>3.1->pytorch_tabular[extra]) (3.1.1)\n",
      "Requirement already satisfied: python-dateutil>=2.7 in c:\\users\\alpha\\anaconda3\\envs\\cz4042_new\\lib\\site-packages (from matplotlib>3.1->pytorch_tabular[extra]) (2.8.2)\n",
      "Requirement already satisfied: antlr4-python3-runtime==4.9.* in c:\\users\\alpha\\anaconda3\\envs\\cz4042_new\\lib\\site-packages (from omegaconf>=2.1.0->pytorch_tabular[extra]) (4.9.3)\n",
      "Requirement already satisfied: pytz>=2020.1 in c:\\users\\alpha\\anaconda3\\envs\\cz4042_new\\lib\\site-packages (from pandas>=1.1.5->pytorch_tabular[extra]) (2023.3.post1)\n",
      "Requirement already satisfied: tzdata>=2022.1 in c:\\users\\alpha\\anaconda3\\envs\\cz4042_new\\lib\\site-packages (from pandas>=1.1.5->pytorch_tabular[extra]) (2023.3)\n",
      "Requirement already satisfied: tenacity>=6.2.0 in c:\\users\\alpha\\anaconda3\\envs\\cz4042_new\\lib\\site-packages (from plotly<5.15.0,>=5.13.0->pytorch_tabular[extra]) (8.2.3)\n",
      "Requirement already satisfied: fsspec[http]>2021.06.0 in c:\\users\\alpha\\anaconda3\\envs\\cz4042_new\\lib\\site-packages (from pytorch-lightning<2.0.0,>=1.8.0->pytorch_tabular[extra]) (2023.4.0)\n",
      "Requirement already satisfied: typing-extensions>=4.0.0 in c:\\users\\alpha\\anaconda3\\envs\\cz4042_new\\lib\\site-packages (from pytorch-lightning<2.0.0,>=1.8.0->pytorch_tabular[extra]) (4.4.0)\n",
      "Requirement already satisfied: lightning-utilities>=0.6.0.post0 in c:\\users\\alpha\\anaconda3\\envs\\cz4042_new\\lib\\site-packages (from pytorch-lightning<2.0.0,>=1.8.0->pytorch_tabular[extra]) (0.9.0)\n",
      "Requirement already satisfied: markdown-it-py>=2.2.0 in c:\\users\\alpha\\anaconda3\\envs\\cz4042_new\\lib\\site-packages (from rich>=11.0.0->pytorch_tabular[extra]) (3.0.0)\n",
      "Requirement already satisfied: pygments<3.0.0,>=2.13.0 in c:\\users\\alpha\\anaconda3\\envs\\cz4042_new\\lib\\site-packages (from rich>=11.0.0->pytorch_tabular[extra]) (2.16.1)\n",
      "Requirement already satisfied: joblib>=1.1.1 in c:\\users\\alpha\\anaconda3\\envs\\cz4042_new\\lib\\site-packages (from scikit-learn>=1.0.0->pytorch_tabular[extra]) (1.3.2)\n",
      "Requirement already satisfied: threadpoolctl>=2.0.0 in c:\\users\\alpha\\anaconda3\\envs\\cz4042_new\\lib\\site-packages (from scikit-learn>=1.0.0->pytorch_tabular[extra]) (3.2.0)\n",
      "Requirement already satisfied: absl-py>=0.4 in c:\\users\\alpha\\anaconda3\\envs\\cz4042_new\\lib\\site-packages (from tensorboard!=2.5.0,>2.2.0->pytorch_tabular[extra]) (2.0.0)\n",
      "Requirement already satisfied: grpcio>=1.48.2 in c:\\users\\alpha\\anaconda3\\envs\\cz4042_new\\lib\\site-packages (from tensorboard!=2.5.0,>2.2.0->pytorch_tabular[extra]) (1.59.0)\n",
      "Requirement already satisfied: google-auth<3,>=1.6.3 in c:\\users\\alpha\\anaconda3\\envs\\cz4042_new\\lib\\site-packages (from tensorboard!=2.5.0,>2.2.0->pytorch_tabular[extra]) (2.23.3)\n",
      "Requirement already satisfied: google-auth-oauthlib<1.1,>=0.5 in c:\\users\\alpha\\anaconda3\\envs\\cz4042_new\\lib\\site-packages (from tensorboard!=2.5.0,>2.2.0->pytorch_tabular[extra]) (1.0.0)\n",
      "Requirement already satisfied: markdown>=2.6.8 in c:\\users\\alpha\\anaconda3\\envs\\cz4042_new\\lib\\site-packages (from tensorboard!=2.5.0,>2.2.0->pytorch_tabular[extra]) (3.5)\n",
      "Requirement already satisfied: six>1.9 in c:\\users\\alpha\\anaconda3\\envs\\cz4042_new\\lib\\site-packages (from tensorboard!=2.5.0,>2.2.0->pytorch_tabular[extra]) (1.16.0)\n",
      "Requirement already satisfied: tensorboard-data-server<0.8.0,>=0.7.0 in c:\\users\\alpha\\anaconda3\\envs\\cz4042_new\\lib\\site-packages (from tensorboard!=2.5.0,>2.2.0->pytorch_tabular[extra]) (0.7.1)\n",
      "Requirement already satisfied: werkzeug>=1.0.1 in c:\\users\\alpha\\anaconda3\\envs\\cz4042_new\\lib\\site-packages (from tensorboard!=2.5.0,>2.2.0->pytorch_tabular[extra]) (3.0.0)\n",
      "Requirement already satisfied: comm>=0.1.3 in c:\\users\\alpha\\anaconda3\\envs\\cz4042_new\\lib\\site-packages (from ipywidgets->pytorch_tabular[extra]) (0.1.4)\n",
      "Requirement already satisfied: ipython>=6.1.0 in c:\\users\\alpha\\anaconda3\\envs\\cz4042_new\\lib\\site-packages (from ipywidgets->pytorch_tabular[extra]) (8.16.1)\n",
      "Requirement already satisfied: traitlets>=4.3.1 in c:\\users\\alpha\\anaconda3\\envs\\cz4042_new\\lib\\site-packages (from ipywidgets->pytorch_tabular[extra]) (5.11.2)\n",
      "Requirement already satisfied: widgetsnbextension~=4.0.9 in c:\\users\\alpha\\anaconda3\\envs\\cz4042_new\\lib\\site-packages (from ipywidgets->pytorch_tabular[extra]) (4.0.9)\n",
      "Requirement already satisfied: jupyterlab-widgets~=3.0.9 in c:\\users\\alpha\\anaconda3\\envs\\cz4042_new\\lib\\site-packages (from ipywidgets->pytorch_tabular[extra]) (3.0.9)\n",
      "Requirement already satisfied: colorama in c:\\users\\alpha\\anaconda3\\envs\\cz4042_new\\lib\\site-packages (from Click!=8.0.0,>=7.0->wandb==0.13.*->pytorch_tabular[extra]) (0.4.6)\n",
      "Requirement already satisfied: aiohttp!=4.0.0a0,!=4.0.0a1 in c:\\users\\alpha\\anaconda3\\envs\\cz4042_new\\lib\\site-packages (from fsspec[http]>2021.06.0->pytorch-lightning<2.0.0,>=1.8.0->pytorch_tabular[extra]) (3.8.6)\n",
      "Requirement already satisfied: gitdb<5,>=4.0.1 in c:\\users\\alpha\\anaconda3\\envs\\cz4042_new\\lib\\site-packages (from GitPython!=3.1.29,>=1.0.0->wandb==0.13.*->pytorch_tabular[extra]) (4.0.10)\n",
      "Requirement already satisfied: cachetools<6.0,>=2.0.0 in c:\\users\\alpha\\anaconda3\\envs\\cz4042_new\\lib\\site-packages (from google-auth<3,>=1.6.3->tensorboard!=2.5.0,>2.2.0->pytorch_tabular[extra]) (5.3.1)\n",
      "Requirement already satisfied: pyasn1-modules>=0.2.1 in c:\\users\\alpha\\anaconda3\\envs\\cz4042_new\\lib\\site-packages (from google-auth<3,>=1.6.3->tensorboard!=2.5.0,>2.2.0->pytorch_tabular[extra]) (0.3.0)\n",
      "Requirement already satisfied: rsa<5,>=3.1.4 in c:\\users\\alpha\\anaconda3\\envs\\cz4042_new\\lib\\site-packages (from google-auth<3,>=1.6.3->tensorboard!=2.5.0,>2.2.0->pytorch_tabular[extra]) (4.9)\n",
      "Requirement already satisfied: requests-oauthlib>=0.7.0 in c:\\users\\alpha\\anaconda3\\envs\\cz4042_new\\lib\\site-packages (from google-auth-oauthlib<1.1,>=0.5->tensorboard!=2.5.0,>2.2.0->pytorch_tabular[extra]) (1.3.1)\n",
      "Requirement already satisfied: backcall in c:\\users\\alpha\\anaconda3\\envs\\cz4042_new\\lib\\site-packages (from ipython>=6.1.0->ipywidgets->pytorch_tabular[extra]) (0.2.0)\n",
      "Requirement already satisfied: decorator in c:\\users\\alpha\\anaconda3\\envs\\cz4042_new\\lib\\site-packages (from ipython>=6.1.0->ipywidgets->pytorch_tabular[extra]) (5.1.1)\n",
      "Requirement already satisfied: jedi>=0.16 in c:\\users\\alpha\\anaconda3\\envs\\cz4042_new\\lib\\site-packages (from ipython>=6.1.0->ipywidgets->pytorch_tabular[extra]) (0.19.1)\n",
      "Requirement already satisfied: matplotlib-inline in c:\\users\\alpha\\anaconda3\\envs\\cz4042_new\\lib\\site-packages (from ipython>=6.1.0->ipywidgets->pytorch_tabular[extra]) (0.1.6)\n",
      "Requirement already satisfied: pickleshare in c:\\users\\alpha\\anaconda3\\envs\\cz4042_new\\lib\\site-packages (from ipython>=6.1.0->ipywidgets->pytorch_tabular[extra]) (0.7.5)\n",
      "Requirement already satisfied: prompt-toolkit!=3.0.37,<3.1.0,>=3.0.30 in c:\\users\\alpha\\anaconda3\\envs\\cz4042_new\\lib\\site-packages (from ipython>=6.1.0->ipywidgets->pytorch_tabular[extra]) (3.0.39)\n",
      "Requirement already satisfied: stack-data in c:\\users\\alpha\\anaconda3\\envs\\cz4042_new\\lib\\site-packages (from ipython>=6.1.0->ipywidgets->pytorch_tabular[extra]) (0.6.3)\n",
      "Requirement already satisfied: exceptiongroup in c:\\users\\alpha\\anaconda3\\envs\\cz4042_new\\lib\\site-packages (from ipython>=6.1.0->ipywidgets->pytorch_tabular[extra]) (1.1.3)\n",
      "Requirement already satisfied: mdurl~=0.1 in c:\\users\\alpha\\anaconda3\\envs\\cz4042_new\\lib\\site-packages (from markdown-it-py>=2.2.0->rich>=11.0.0->pytorch_tabular[extra]) (0.1.2)\n",
      "Requirement already satisfied: charset-normalizer<4,>=2 in c:\\users\\alpha\\anaconda3\\envs\\cz4042_new\\lib\\site-packages (from requests<3,>=2.0.0->wandb==0.13.*->pytorch_tabular[extra]) (2.1.1)\n",
      "Requirement already satisfied: idna<4,>=2.5 in c:\\users\\alpha\\anaconda3\\envs\\cz4042_new\\lib\\site-packages (from requests<3,>=2.0.0->wandb==0.13.*->pytorch_tabular[extra]) (3.4)\n",
      "Requirement already satisfied: urllib3<3,>=1.21.1 in c:\\users\\alpha\\anaconda3\\envs\\cz4042_new\\lib\\site-packages (from requests<3,>=2.0.0->wandb==0.13.*->pytorch_tabular[extra]) (1.26.13)\n",
      "Requirement already satisfied: certifi>=2017.4.17 in c:\\users\\alpha\\anaconda3\\envs\\cz4042_new\\lib\\site-packages (from requests<3,>=2.0.0->wandb==0.13.*->pytorch_tabular[extra]) (2022.12.7)\n",
      "Requirement already satisfied: MarkupSafe>=2.1.1 in c:\\users\\alpha\\anaconda3\\envs\\cz4042_new\\lib\\site-packages (from werkzeug>=1.0.1->tensorboard!=2.5.0,>2.2.0->pytorch_tabular[extra]) (2.1.2)\n",
      "Requirement already satisfied: attrs>=17.3.0 in c:\\users\\alpha\\anaconda3\\envs\\cz4042_new\\lib\\site-packages (from aiohttp!=4.0.0a0,!=4.0.0a1->fsspec[http]>2021.06.0->pytorch-lightning<2.0.0,>=1.8.0->pytorch_tabular[extra]) (23.1.0)\n",
      "Requirement already satisfied: multidict<7.0,>=4.5 in c:\\users\\alpha\\anaconda3\\envs\\cz4042_new\\lib\\site-packages (from aiohttp!=4.0.0a0,!=4.0.0a1->fsspec[http]>2021.06.0->pytorch-lightning<2.0.0,>=1.8.0->pytorch_tabular[extra]) (6.0.4)\n",
      "Requirement already satisfied: async-timeout<5.0,>=4.0.0a3 in c:\\users\\alpha\\anaconda3\\envs\\cz4042_new\\lib\\site-packages (from aiohttp!=4.0.0a0,!=4.0.0a1->fsspec[http]>2021.06.0->pytorch-lightning<2.0.0,>=1.8.0->pytorch_tabular[extra]) (4.0.3)\n",
      "Requirement already satisfied: yarl<2.0,>=1.0 in c:\\users\\alpha\\anaconda3\\envs\\cz4042_new\\lib\\site-packages (from aiohttp!=4.0.0a0,!=4.0.0a1->fsspec[http]>2021.06.0->pytorch-lightning<2.0.0,>=1.8.0->pytorch_tabular[extra]) (1.9.2)\n",
      "Requirement already satisfied: frozenlist>=1.1.1 in c:\\users\\alpha\\anaconda3\\envs\\cz4042_new\\lib\\site-packages (from aiohttp!=4.0.0a0,!=4.0.0a1->fsspec[http]>2021.06.0->pytorch-lightning<2.0.0,>=1.8.0->pytorch_tabular[extra]) (1.4.0)\n",
      "Requirement already satisfied: aiosignal>=1.1.2 in c:\\users\\alpha\\anaconda3\\envs\\cz4042_new\\lib\\site-packages (from aiohttp!=4.0.0a0,!=4.0.0a1->fsspec[http]>2021.06.0->pytorch-lightning<2.0.0,>=1.8.0->pytorch_tabular[extra]) (1.3.1)\n",
      "Requirement already satisfied: smmap<6,>=3.0.1 in c:\\users\\alpha\\anaconda3\\envs\\cz4042_new\\lib\\site-packages (from gitdb<5,>=4.0.1->GitPython!=3.1.29,>=1.0.0->wandb==0.13.*->pytorch_tabular[extra]) (5.0.1)\n",
      "Requirement already satisfied: parso<0.9.0,>=0.8.3 in c:\\users\\alpha\\anaconda3\\envs\\cz4042_new\\lib\\site-packages (from jedi>=0.16->ipython>=6.1.0->ipywidgets->pytorch_tabular[extra]) (0.8.3)\n",
      "Requirement already satisfied: wcwidth in c:\\users\\alpha\\anaconda3\\envs\\cz4042_new\\lib\\site-packages (from prompt-toolkit!=3.0.37,<3.1.0,>=3.0.30->ipython>=6.1.0->ipywidgets->pytorch_tabular[extra]) (0.2.8)\n",
      "Requirement already satisfied: pyasn1<0.6.0,>=0.4.6 in c:\\users\\alpha\\anaconda3\\envs\\cz4042_new\\lib\\site-packages (from pyasn1-modules>=0.2.1->google-auth<3,>=1.6.3->tensorboard!=2.5.0,>2.2.0->pytorch_tabular[extra]) (0.5.0)\n",
      "Requirement already satisfied: oauthlib>=3.0.0 in c:\\users\\alpha\\anaconda3\\envs\\cz4042_new\\lib\\site-packages (from requests-oauthlib>=0.7.0->google-auth-oauthlib<1.1,>=0.5->tensorboard!=2.5.0,>2.2.0->pytorch_tabular[extra]) (3.2.2)\n",
      "Requirement already satisfied: executing>=1.2.0 in c:\\users\\alpha\\anaconda3\\envs\\cz4042_new\\lib\\site-packages (from stack-data->ipython>=6.1.0->ipywidgets->pytorch_tabular[extra]) (2.0.0)\n",
      "Requirement already satisfied: asttokens>=2.1.0 in c:\\users\\alpha\\anaconda3\\envs\\cz4042_new\\lib\\site-packages (from stack-data->ipython>=6.1.0->ipywidgets->pytorch_tabular[extra]) (2.4.0)\n",
      "Requirement already satisfied: pure-eval in c:\\users\\alpha\\anaconda3\\envs\\cz4042_new\\lib\\site-packages (from stack-data->ipython>=6.1.0->ipywidgets->pytorch_tabular[extra]) (0.2.2)\n"
     ]
    }
   ],
   "source": [
    "!pip install pytorch_tabular[extra] --user"
   ]
  },
  {
   "cell_type": "code",
   "execution_count": 2,
   "metadata": {
    "id": "Jr6P3U7w3NVl",
    "pycharm": {
     "name": "#%%\n"
    }
   },
   "outputs": [],
   "source": [
    "SEED = 42\n",
    "\n",
    "import os\n",
    "\n",
    "import random\n",
    "random.seed(SEED)\n",
    "\n",
    "import numpy as np\n",
    "np.random.seed(SEED)\n",
    "\n",
    "import pandas as pd\n",
    "\n",
    "from pytorch_tabular import TabularModel\n",
    "from pytorch_tabular.models import CategoryEmbeddingModelConfig\n",
    "from pytorch_tabular.config import (\n",
    "    DataConfig,\n",
    "    OptimizerConfig,\n",
    "    TrainerConfig,\n",
    ")"
   ]
  },
  {
   "cell_type": "markdown",
   "metadata": {
    "id": "zGyEWcVlqKTz",
    "pycharm": {
     "name": "#%% md\n"
    }
   },
   "source": [
    "> Divide the dataset (‘hdb_price_prediction.csv’) into train, validation and test sets by using entries from year 2019 and before as training data, year 2020 as validation data and year 2021 as test data.\n",
    "**Do not** use data from year 2022 and year 2023.\n",
    "\n"
   ]
  },
  {
   "cell_type": "code",
   "execution_count": 3,
   "metadata": {
    "id": "hoCPcOWupw5Y",
    "pycharm": {
     "name": "#%%\n"
    }
   },
   "outputs": [
    {
     "data": {
      "text/plain": "   month  year        town              full_address   nearest_stn  \\\n0      1  2017  ANG MO KIO  406 ANG MO KIO AVENUE 10    Ang Mo Kio   \n1      1  2017  ANG MO KIO   108 ANG MO KIO AVENUE 4    Ang Mo Kio   \n2      1  2017  ANG MO KIO   602 ANG MO KIO AVENUE 5  Yio Chu Kang   \n3      1  2017  ANG MO KIO  465 ANG MO KIO AVENUE 10    Ang Mo Kio   \n4      1  2017  ANG MO KIO   601 ANG MO KIO AVENUE 5  Yio Chu Kang   \n\n   dist_to_nearest_stn  dist_to_dhoby  degree_centrality  \\\n0             1.007264       7.006044           0.016807   \n1             1.271389       7.983837           0.016807   \n2             1.069743       9.090700           0.016807   \n3             0.946890       7.519889           0.016807   \n4             1.092551       9.130489           0.016807   \n\n   eigenvector_centrality         flat_model_type  remaining_lease_years  \\\n0                0.006243        2 ROOM, Improved              61.333333   \n1                0.006243  3 ROOM, New Generation              60.583333   \n2                0.002459  3 ROOM, New Generation              62.416667   \n3                0.006243  3 ROOM, New Generation              62.083333   \n4                0.002459  3 ROOM, New Generation              62.416667   \n\n   floor_area_sqm storey_range  resale_price  \n0            44.0     10 TO 12      232000.0  \n1            67.0     01 TO 03      250000.0  \n2            67.0     01 TO 03      262000.0  \n3            68.0     04 TO 06      265000.0  \n4            67.0     01 TO 03      265000.0  ",
      "text/html": "<div>\n<style scoped>\n    .dataframe tbody tr th:only-of-type {\n        vertical-align: middle;\n    }\n\n    .dataframe tbody tr th {\n        vertical-align: top;\n    }\n\n    .dataframe thead th {\n        text-align: right;\n    }\n</style>\n<table border=\"1\" class=\"dataframe\">\n  <thead>\n    <tr style=\"text-align: right;\">\n      <th></th>\n      <th>month</th>\n      <th>year</th>\n      <th>town</th>\n      <th>full_address</th>\n      <th>nearest_stn</th>\n      <th>dist_to_nearest_stn</th>\n      <th>dist_to_dhoby</th>\n      <th>degree_centrality</th>\n      <th>eigenvector_centrality</th>\n      <th>flat_model_type</th>\n      <th>remaining_lease_years</th>\n      <th>floor_area_sqm</th>\n      <th>storey_range</th>\n      <th>resale_price</th>\n    </tr>\n  </thead>\n  <tbody>\n    <tr>\n      <th>0</th>\n      <td>1</td>\n      <td>2017</td>\n      <td>ANG MO KIO</td>\n      <td>406 ANG MO KIO AVENUE 10</td>\n      <td>Ang Mo Kio</td>\n      <td>1.007264</td>\n      <td>7.006044</td>\n      <td>0.016807</td>\n      <td>0.006243</td>\n      <td>2 ROOM, Improved</td>\n      <td>61.333333</td>\n      <td>44.0</td>\n      <td>10 TO 12</td>\n      <td>232000.0</td>\n    </tr>\n    <tr>\n      <th>1</th>\n      <td>1</td>\n      <td>2017</td>\n      <td>ANG MO KIO</td>\n      <td>108 ANG MO KIO AVENUE 4</td>\n      <td>Ang Mo Kio</td>\n      <td>1.271389</td>\n      <td>7.983837</td>\n      <td>0.016807</td>\n      <td>0.006243</td>\n      <td>3 ROOM, New Generation</td>\n      <td>60.583333</td>\n      <td>67.0</td>\n      <td>01 TO 03</td>\n      <td>250000.0</td>\n    </tr>\n    <tr>\n      <th>2</th>\n      <td>1</td>\n      <td>2017</td>\n      <td>ANG MO KIO</td>\n      <td>602 ANG MO KIO AVENUE 5</td>\n      <td>Yio Chu Kang</td>\n      <td>1.069743</td>\n      <td>9.090700</td>\n      <td>0.016807</td>\n      <td>0.002459</td>\n      <td>3 ROOM, New Generation</td>\n      <td>62.416667</td>\n      <td>67.0</td>\n      <td>01 TO 03</td>\n      <td>262000.0</td>\n    </tr>\n    <tr>\n      <th>3</th>\n      <td>1</td>\n      <td>2017</td>\n      <td>ANG MO KIO</td>\n      <td>465 ANG MO KIO AVENUE 10</td>\n      <td>Ang Mo Kio</td>\n      <td>0.946890</td>\n      <td>7.519889</td>\n      <td>0.016807</td>\n      <td>0.006243</td>\n      <td>3 ROOM, New Generation</td>\n      <td>62.083333</td>\n      <td>68.0</td>\n      <td>04 TO 06</td>\n      <td>265000.0</td>\n    </tr>\n    <tr>\n      <th>4</th>\n      <td>1</td>\n      <td>2017</td>\n      <td>ANG MO KIO</td>\n      <td>601 ANG MO KIO AVENUE 5</td>\n      <td>Yio Chu Kang</td>\n      <td>1.092551</td>\n      <td>9.130489</td>\n      <td>0.016807</td>\n      <td>0.002459</td>\n      <td>3 ROOM, New Generation</td>\n      <td>62.416667</td>\n      <td>67.0</td>\n      <td>01 TO 03</td>\n      <td>265000.0</td>\n    </tr>\n  </tbody>\n</table>\n</div>"
     },
     "execution_count": 3,
     "metadata": {},
     "output_type": "execute_result"
    }
   ],
   "source": [
    "df = pd.read_csv('hdb_price_prediction.csv')\n",
    "\n",
    "# TODO: Enter your code here\n",
    "df_train = df[df['year'] <= 2019]\n",
    "df_val = df[df['year'] == 2020]\n",
    "df_test = df[df['year'] == 2021]\n",
    "df.head()"
   ]
  },
  {
   "cell_type": "markdown",
   "metadata": {
    "id": "sebMgSuzqPe7",
    "pycharm": {
     "name": "#%% md\n"
    }
   },
   "source": [
    "\n",
    "\n",
    "\n"
   ]
  },
  {
   "cell_type": "code",
   "execution_count": 4,
   "metadata": {
    "id": "ZZWAYdNhqPzh",
    "pycharm": {
     "name": "#%%\n"
    }
   },
   "outputs": [],
   "source": [
    "# TODO: Enter your code here\n",
    "categorical_columns = ['month', 'town', 'flat_model_type', 'storey_range']\n",
    "continuous_columns = ['dist_to_nearest_stn', 'dist_to_dhoby', 'degree_centrality', 'eigenvector_centrality', 'remaining_lease_years', 'floor_area_sqm']\n",
    "target_columns = ['resale_price']"
   ]
  },
  {
   "cell_type": "code",
   "execution_count": 5,
   "outputs": [
    {
     "name": "stderr",
     "output_type": "stream",
     "text": [
      "2023-10-13 22:34:39,671 - {pytorch_tabular.tabular_model:105} - INFO - Experiment Tracking is turned off\n",
      "Global seed set to 42\n",
      "2023-10-13 22:34:39,698 - {pytorch_tabular.tabular_model:473} - INFO - Preparing the DataLoaders\n",
      "2023-10-13 22:34:39,702 - {pytorch_tabular.tabular_datamodule:290} - INFO - Setting up the datamodule for regression task\n",
      "2023-10-13 22:34:39,757 - {pytorch_tabular.tabular_model:521} - INFO - Preparing the Model: CategoryEmbeddingModel\n",
      "2023-10-13 22:34:39,780 - {pytorch_tabular.tabular_model:268} - INFO - Preparing the Trainer\n",
      "C:\\Users\\alpha\\anaconda3\\envs\\cz4042_helpme\\lib\\site-packages\\pytorch_lightning\\trainer\\connectors\\accelerator_connector.py:589: LightningDeprecationWarning: The Trainer argument `auto_select_gpus` has been deprecated in v1.9.0 and will be removed in v2.0.0. Please use the function `pytorch_lightning.accelerators.find_usable_cuda_devices` instead.\n",
      "  rank_zero_deprecation(\n",
      "GPU available: False, used: False\n",
      "TPU available: False, using: 0 TPU cores\n",
      "IPU available: False, using: 0 IPUs\n",
      "HPU available: False, using: 0 HPUs\n",
      "2023-10-13 22:34:39,819 - {pytorch_tabular.tabular_model:573} - INFO - Auto LR Find Started\n",
      "C:\\Users\\alpha\\anaconda3\\envs\\cz4042_helpme\\lib\\site-packages\\pytorch_lightning\\callbacks\\model_checkpoint.py:613: UserWarning: Checkpoint directory C:\\Users\\alpha\\PycharmProjects\\pythonProject3\\saved_models exists and is not empty.\n",
      "  rank_zero_warn(f\"Checkpoint directory {dirpath} exists and is not empty.\")\n",
      "C:\\Users\\alpha\\anaconda3\\envs\\cz4042_helpme\\lib\\site-packages\\pytorch_lightning\\trainer\\connectors\\data_connector.py:224: PossibleUserWarning: The dataloader, train_dataloader, does not have many workers which may be a bottleneck. Consider increasing the value of the `num_workers` argument` (try 16 which is the number of cpus on this machine) in the `DataLoader` init to improve performance.\n",
      "  rank_zero_warn(\n",
      "C:\\Users\\alpha\\anaconda3\\envs\\cz4042_helpme\\lib\\site-packages\\pytorch_lightning\\trainer\\connectors\\data_connector.py:224: PossibleUserWarning: The dataloader, val_dataloader 0, does not have many workers which may be a bottleneck. Consider increasing the value of the `num_workers` argument` (try 16 which is the number of cpus on this machine) in the `DataLoader` init to improve performance.\n",
      "  rank_zero_warn(\n",
      "C:\\Users\\alpha\\anaconda3\\envs\\cz4042_helpme\\lib\\site-packages\\pytorch_lightning\\core\\module.py:493: UserWarning: You called `self.log('valid_loss', ..., logger=True)` but have no logger configured. You can enable one by doing `Trainer(logger=ALogger(...))`\n",
      "  rank_zero_warn(\n",
      "C:\\Users\\alpha\\anaconda3\\envs\\cz4042_helpme\\lib\\site-packages\\pytorch_lightning\\core\\module.py:493: UserWarning: You called `self.log('valid_mean_squared_error', ..., logger=True)` but have no logger configured. You can enable one by doing `Trainer(logger=ALogger(...))`\n",
      "  rank_zero_warn(\n"
     ]
    },
    {
     "data": {
      "text/plain": "Finding best initial lr:   0%|          | 0/100 [00:00<?, ?it/s]",
      "application/vnd.jupyter.widget-view+json": {
       "version_major": 2,
       "version_minor": 0,
       "model_id": "ab07e1ecce774f688bc31659d27e7123"
      }
     },
     "metadata": {},
     "output_type": "display_data"
    },
    {
     "name": "stderr",
     "output_type": "stream",
     "text": [
      "C:\\Users\\alpha\\anaconda3\\envs\\cz4042_helpme\\lib\\site-packages\\pytorch_lightning\\core\\module.py:493: UserWarning: You called `self.log('train_loss', ..., logger=True)` but have no logger configured. You can enable one by doing `Trainer(logger=ALogger(...))`\n",
      "  rank_zero_warn(\n",
      "C:\\Users\\alpha\\anaconda3\\envs\\cz4042_helpme\\lib\\site-packages\\pytorch_lightning\\core\\module.py:493: UserWarning: You called `self.log('train_mean_squared_error', ..., logger=True)` but have no logger configured. You can enable one by doing `Trainer(logger=ALogger(...))`\n",
      "  rank_zero_warn(\n",
      "`Trainer.fit` stopped: `max_steps=100` reached.\n",
      "Learning rate set to 0.5754399373371567\n",
      "Restoring states from the checkpoint path at C:\\Users\\alpha\\PycharmProjects\\pythonProject3\\.lr_find_b10f2012-67ea-4219-aaa2-c2ce7337a847.ckpt\n",
      "Restored all states from the checkpoint file at C:\\Users\\alpha\\PycharmProjects\\pythonProject3\\.lr_find_b10f2012-67ea-4219-aaa2-c2ce7337a847.ckpt\n",
      "2023-10-13 22:34:42,543 - {pytorch_tabular.tabular_model:575} - INFO - Suggested LR: 0.5754399373371567. For plot and detailed analysis, use `find_learning_rate` method.\n",
      "2023-10-13 22:34:42,547 - {pytorch_tabular.tabular_model:582} - INFO - Training Started\n"
     ]
    },
    {
     "data": {
      "text/plain": "┏━━━┳━━━━━━━━━━━━━━━━━━┳━━━━━━━━━━━━━━━━━━━━━━━━━━━┳━━━━━━━━┓\n┃\u001B[1;35m \u001B[0m\u001B[1;35m \u001B[0m\u001B[1;35m \u001B[0m┃\u001B[1;35m \u001B[0m\u001B[1;35mName            \u001B[0m\u001B[1;35m \u001B[0m┃\u001B[1;35m \u001B[0m\u001B[1;35mType                     \u001B[0m\u001B[1;35m \u001B[0m┃\u001B[1;35m \u001B[0m\u001B[1;35mParams\u001B[0m\u001B[1;35m \u001B[0m┃\n┡━━━╇━━━━━━━━━━━━━━━━━━╇━━━━━━━━━━━━━━━━━━━━━━━━━━━╇━━━━━━━━┩\n│\u001B[2m \u001B[0m\u001B[2m0\u001B[0m\u001B[2m \u001B[0m│ _backbone        │ CategoryEmbeddingBackbone │  2.9 K │\n│\u001B[2m \u001B[0m\u001B[2m1\u001B[0m\u001B[2m \u001B[0m│ _embedding_layer │ Embedding1dLayer          │  1.5 K │\n│\u001B[2m \u001B[0m\u001B[2m2\u001B[0m\u001B[2m \u001B[0m│ head             │ LinearHead                │     51 │\n│\u001B[2m \u001B[0m\u001B[2m3\u001B[0m\u001B[2m \u001B[0m│ loss             │ MSELoss                   │      0 │\n└───┴──────────────────┴───────────────────────────┴────────┘\n",
      "text/html": "<pre style=\"white-space:pre;overflow-x:auto;line-height:normal;font-family:Menlo,'DejaVu Sans Mono',consolas,'Courier New',monospace\">┏━━━┳━━━━━━━━━━━━━━━━━━┳━━━━━━━━━━━━━━━━━━━━━━━━━━━┳━━━━━━━━┓\n┃<span style=\"color: #800080; text-decoration-color: #800080; font-weight: bold\">   </span>┃<span style=\"color: #800080; text-decoration-color: #800080; font-weight: bold\"> Name             </span>┃<span style=\"color: #800080; text-decoration-color: #800080; font-weight: bold\"> Type                      </span>┃<span style=\"color: #800080; text-decoration-color: #800080; font-weight: bold\"> Params </span>┃\n┡━━━╇━━━━━━━━━━━━━━━━━━╇━━━━━━━━━━━━━━━━━━━━━━━━━━━╇━━━━━━━━┩\n│<span style=\"color: #7f7f7f; text-decoration-color: #7f7f7f\"> 0 </span>│ _backbone        │ CategoryEmbeddingBackbone │  2.9 K │\n│<span style=\"color: #7f7f7f; text-decoration-color: #7f7f7f\"> 1 </span>│ _embedding_layer │ Embedding1dLayer          │  1.5 K │\n│<span style=\"color: #7f7f7f; text-decoration-color: #7f7f7f\"> 2 </span>│ head             │ LinearHead                │     51 │\n│<span style=\"color: #7f7f7f; text-decoration-color: #7f7f7f\"> 3 </span>│ loss             │ MSELoss                   │      0 │\n└───┴──────────────────┴───────────────────────────┴────────┘\n</pre>\n"
     },
     "metadata": {},
     "output_type": "display_data"
    },
    {
     "data": {
      "text/plain": "\u001B[1mTrainable params\u001B[0m: 4.5 K                                                                                            \n\u001B[1mNon-trainable params\u001B[0m: 0                                                                                            \n\u001B[1mTotal params\u001B[0m: 4.5 K                                                                                                \n\u001B[1mTotal estimated model params size (MB)\u001B[0m: 0                                                                          \n",
      "text/html": "<pre style=\"white-space:pre;overflow-x:auto;line-height:normal;font-family:Menlo,'DejaVu Sans Mono',consolas,'Courier New',monospace\"><span style=\"font-weight: bold\">Trainable params</span>: 4.5 K                                                                                            \n<span style=\"font-weight: bold\">Non-trainable params</span>: 0                                                                                            \n<span style=\"font-weight: bold\">Total params</span>: 4.5 K                                                                                                \n<span style=\"font-weight: bold\">Total estimated model params size (MB)</span>: 0                                                                          \n</pre>\n"
     },
     "metadata": {},
     "output_type": "display_data"
    },
    {
     "data": {
      "text/plain": "Output()",
      "application/vnd.jupyter.widget-view+json": {
       "version_major": 2,
       "version_minor": 0,
       "model_id": "54160979fe5944aab398a2caf227dd6a"
      }
     },
     "metadata": {},
     "output_type": "display_data"
    },
    {
     "data": {
      "text/plain": "",
      "text/html": "<pre style=\"white-space:pre;overflow-x:auto;line-height:normal;font-family:Menlo,'DejaVu Sans Mono',consolas,'Courier New',monospace\"></pre>\n"
     },
     "metadata": {},
     "output_type": "display_data"
    },
    {
     "data": {
      "text/plain": "\n",
      "text/html": "<pre style=\"white-space:pre;overflow-x:auto;line-height:normal;font-family:Menlo,'DejaVu Sans Mono',consolas,'Courier New',monospace\">\n</pre>\n"
     },
     "metadata": {},
     "output_type": "display_data"
    },
    {
     "name": "stderr",
     "output_type": "stream",
     "text": [
      "2023-10-13 22:34:58,902 - {pytorch_tabular.tabular_model:584} - INFO - Training the model completed\n",
      "2023-10-13 22:34:58,903 - {pytorch_tabular.tabular_model:1258} - INFO - Loading the best model\n"
     ]
    },
    {
     "data": {
      "text/plain": "Output()",
      "application/vnd.jupyter.widget-view+json": {
       "version_major": 2,
       "version_minor": 0,
       "model_id": "ea9e2ebca9b346d2b16fbc14a6642560"
      }
     },
     "metadata": {},
     "output_type": "display_data"
    },
    {
     "data": {
      "text/plain": "C:\\Users\\alpha\\anaconda3\\envs\\cz4042_helpme\\lib\\site-packages\\pytorch_lightning\\core\\module.py:493: UserWarning: \nYou called `self.log('test_loss', ..., logger=True)` but have no logger configured. You can enable one by doing \n`Trainer(logger=ALogger(...))`\n  rank_zero_warn(\n",
      "text/html": "<pre style=\"white-space:pre;overflow-x:auto;line-height:normal;font-family:Menlo,'DejaVu Sans Mono',consolas,'Courier New',monospace\">C:\\Users\\alpha\\anaconda3\\envs\\cz4042_helpme\\lib\\site-packages\\pytorch_lightning\\core\\module.py:493: UserWarning: \nYou called `self.log('test_loss', ..., logger=True)` but have no logger configured. You can enable one by doing \n`Trainer(logger=ALogger(...))`\n  rank_zero_warn(\n</pre>\n"
     },
     "metadata": {},
     "output_type": "display_data"
    },
    {
     "data": {
      "text/plain": "C:\\Users\\alpha\\anaconda3\\envs\\cz4042_helpme\\lib\\site-packages\\pytorch_lightning\\core\\module.py:493: UserWarning: \nYou called `self.log('test_mean_squared_error', ..., logger=True)` but have no logger configured. You can enable \none by doing `Trainer(logger=ALogger(...))`\n  rank_zero_warn(\n",
      "text/html": "<pre style=\"white-space:pre;overflow-x:auto;line-height:normal;font-family:Menlo,'DejaVu Sans Mono',consolas,'Courier New',monospace\">C:\\Users\\alpha\\anaconda3\\envs\\cz4042_helpme\\lib\\site-packages\\pytorch_lightning\\core\\module.py:493: UserWarning: \nYou called `self.log('test_mean_squared_error', ..., logger=True)` but have no logger configured. You can enable \none by doing `Trainer(logger=ALogger(...))`\n  rank_zero_warn(\n</pre>\n"
     },
     "metadata": {},
     "output_type": "display_data"
    },
    {
     "name": "stderr",
     "output_type": "stream",
     "text": [
      "C:\\Users\\alpha\\anaconda3\\envs\\cz4042_helpme\\lib\\site-packages\\pytorch_lightning\\utilities\\cloud_io.py:33: LightningDeprecationWarning: `pytorch_lightning.utilities.cloud_io.get_filesystem` has been deprecated in v1.8.0 and will be removed in v2.0.0. Please use `lightning_fabric.utilities.cloud_io.get_filesystem` instead.\n",
      "  rank_zero_deprecation(\n",
      "C:\\Users\\alpha\\anaconda3\\envs\\cz4042_helpme\\lib\\site-packages\\pytorch_lightning\\trainer\\connectors\\data_connector.py:224: PossibleUserWarning: The dataloader, test_dataloader 0, does not have many workers which may be a bottleneck. Consider increasing the value of the `num_workers` argument` (try 16 which is the number of cpus on this machine) in the `DataLoader` init to improve performance.\n",
      "  rank_zero_warn(\n"
     ]
    },
    {
     "data": {
      "text/plain": "┏━━━━━━━━━━━━━━━━━━━━━━━━━━━┳━━━━━━━━━━━━━━━━━━━━━━━━━━━┓\n┃\u001B[1m \u001B[0m\u001B[1m       Test metric       \u001B[0m\u001B[1m \u001B[0m┃\u001B[1m \u001B[0m\u001B[1m      DataLoader 0       \u001B[0m\u001B[1m \u001B[0m┃\n┡━━━━━━━━━━━━━━━━━━━━━━━━━━━╇━━━━━━━━━━━━━━━━━━━━━━━━━━━┩\n│\u001B[36m \u001B[0m\u001B[36m        test_loss        \u001B[0m\u001B[36m \u001B[0m│\u001B[35m \u001B[0m\u001B[35m      5882418688.0       \u001B[0m\u001B[35m \u001B[0m│\n│\u001B[36m \u001B[0m\u001B[36m test_mean_squared_error \u001B[0m\u001B[36m \u001B[0m│\u001B[35m \u001B[0m\u001B[35m      5882418688.0       \u001B[0m\u001B[35m \u001B[0m│\n└───────────────────────────┴───────────────────────────┘\n",
      "text/html": "<pre style=\"white-space:pre;overflow-x:auto;line-height:normal;font-family:Menlo,'DejaVu Sans Mono',consolas,'Courier New',monospace\">┏━━━━━━━━━━━━━━━━━━━━━━━━━━━┳━━━━━━━━━━━━━━━━━━━━━━━━━━━┓\n┃<span style=\"font-weight: bold\">        Test metric        </span>┃<span style=\"font-weight: bold\">       DataLoader 0        </span>┃\n┡━━━━━━━━━━━━━━━━━━━━━━━━━━━╇━━━━━━━━━━━━━━━━━━━━━━━━━━━┩\n│<span style=\"color: #008080; text-decoration-color: #008080\">         test_loss         </span>│<span style=\"color: #800080; text-decoration-color: #800080\">       5882418688.0        </span>│\n│<span style=\"color: #008080; text-decoration-color: #008080\">  test_mean_squared_error  </span>│<span style=\"color: #800080; text-decoration-color: #800080\">       5882418688.0        </span>│\n└───────────────────────────┴───────────────────────────┘\n</pre>\n"
     },
     "metadata": {},
     "output_type": "display_data"
    },
    {
     "data": {
      "text/plain": "",
      "text/html": "<pre style=\"white-space:pre;overflow-x:auto;line-height:normal;font-family:Menlo,'DejaVu Sans Mono',consolas,'Courier New',monospace\"></pre>\n"
     },
     "metadata": {},
     "output_type": "display_data"
    },
    {
     "data": {
      "text/plain": "\n",
      "text/html": "<pre style=\"white-space:pre;overflow-x:auto;line-height:normal;font-family:Menlo,'DejaVu Sans Mono',consolas,'Courier New',monospace\">\n</pre>\n"
     },
     "metadata": {},
     "output_type": "display_data"
    },
    {
     "data": {
      "text/plain": "Output()",
      "application/vnd.jupyter.widget-view+json": {
       "version_major": 2,
       "version_minor": 0,
       "model_id": "f9224c2c4207459f8ce2eca50671738c"
      }
     },
     "metadata": {},
     "output_type": "display_data"
    },
    {
     "data": {
      "text/plain": "",
      "text/html": "<pre style=\"white-space:pre;overflow-x:auto;line-height:normal;font-family:Menlo,'DejaVu Sans Mono',consolas,'Courier New',monospace\"></pre>\n"
     },
     "metadata": {},
     "output_type": "display_data"
    },
    {
     "data": {
      "text/plain": "\n",
      "text/html": "<pre style=\"white-space:pre;overflow-x:auto;line-height:normal;font-family:Menlo,'DejaVu Sans Mono',consolas,'Courier New',monospace\">\n</pre>\n"
     },
     "metadata": {},
     "output_type": "display_data"
    }
   ],
   "source": [
    "# Data Configuration\n",
    "data_config = DataConfig(\n",
    "    target=target_columns,\n",
    "    continuous_cols=continuous_columns,\n",
    "    categorical_cols=categorical_columns\n",
    ")\n",
    "\n",
    "# Trainer Configuration\n",
    "trainer_config = TrainerConfig(\n",
    "    auto_lr_find=True,\n",
    "    batch_size=1024,\n",
    "    max_epochs=50\n",
    ")\n",
    "\n",
    "# Model Configuration\n",
    "model_config = CategoryEmbeddingModelConfig(\n",
    "    task=\"regression\",\n",
    "    layers=\"50\",           # Number of nodes in each layer\n",
    "    activation=\"ReLU\",     # Activation between layers\n",
    "    learning_rate=1e-3\n",
    ")\n",
    "\n",
    "# Optimizer Configuration (defaults to Adam)\n",
    "optimizer_config = OptimizerConfig()\n",
    "\n",
    "# Create and train the Tabular Model\n",
    "tabular_model = TabularModel(\n",
    "    data_config=data_config,\n",
    "    model_config=model_config,\n",
    "    optimizer_config=optimizer_config,\n",
    "    trainer_config=trainer_config\n",
    ")\n",
    "\n",
    "# Fit the model on the training data and evaluate it\n",
    "tabular_model.fit(train=df_train, validation=df_val)\n",
    "result = tabular_model.evaluate(df_test)\n",
    "\n",
    "# Make predictions on the test data\n",
    "prediction_df = tabular_model.predict(df_test)"
   ],
   "metadata": {
    "collapsed": false,
    "pycharm": {
     "name": "#%%\n"
    }
   }
  },
  {
   "cell_type": "markdown",
   "metadata": {
    "id": "-2UXPKq0qWQG",
    "pycharm": {
     "name": "#%% md\n"
    }
   },
   "source": [
    "> Report the test RMSE error and the test R2 value that you obtained.\n",
    "\n"
   ]
  },
  {
   "cell_type": "code",
   "execution_count": 6,
   "outputs": [
    {
     "name": "stdout",
     "output_type": "stream",
     "text": [
      "Test RMSE: 76696.93230844148\n",
      "R^2: 0.7776187157081005\n"
     ]
    }
   ],
   "source": [
    "# TODO: Enter your answer here\n",
    "import math\n",
    "from sklearn.metrics import mean_squared_error, r2_score\n",
    "\n",
    "prediction = prediction_df['resale_price_prediction']\n",
    "target = prediction_df['resale_price']\n",
    "\n",
    "print(f\"Test RMSE: {math.sqrt(mean_squared_error(target, prediction))}\")\n",
    "print(f\"R^2: {r2_score(target, prediction)}\")"
   ],
   "metadata": {
    "collapsed": false,
    "pycharm": {
     "name": "#%%\n"
    }
   }
  },
  {
   "cell_type": "markdown",
   "metadata": {
    "id": "NEJhRU18qX22",
    "pycharm": {
     "name": "#%% md\n"
    }
   },
   "source": [
    "> Print out the corresponding rows in the dataframe for the top 25 test samples with the largest errors. Identify a trend in these poor predictions and suggest a way to reduce these errors.\n",
    "\n"
   ]
  },
  {
   "cell_type": "code",
   "execution_count": 7,
   "metadata": {
    "id": "5ma5K9vKqZEq",
    "pycharm": {
     "name": "#%%\n"
    }
   },
   "outputs": [
    {
     "data": {
      "text/plain": "        month  year          town                full_address    nearest_stn  \\\n92405      11  2021   BUKIT MERAH            46 SENG POH ROAD    Tiong Bahru   \n90957       6  2021   BUKIT BATOK  288A BUKIT BATOK STREET 25    Bukit Batok   \n112128     12  2021      TAMPINES      156 TAMPINES STREET 12       Tampines   \n90608      12  2021        BISHAN       273B BISHAN STREET 24         Bishan   \n106192     12  2021    QUEENSTOWN              89 DAWSON ROAD     Queenstown   \n91871       6  2021   BUKIT MERAH         17 TIONG BAHRU ROAD    Tiong Bahru   \n93825       8  2021  CENTRAL AREA       4 TANJONG PAGAR PLAZA  Tanjong Pagar   \n92504      12  2021   BUKIT MERAH            49 KIM PONG ROAD    Tiong Bahru   \n105695      6  2021    QUEENSTOWN              91 DAWSON ROAD     Queenstown   \n90432       8  2021        BISHAN       275A BISHAN STREET 24         Bishan   \n92299      10  2021   BUKIT MERAH         36 MOH GUAN TERRACE    Tiong Bahru   \n92442      11  2021   BUKIT MERAH          127D KIM TIAN ROAD    Tiong Bahru   \n93895      11  2021  CENTRAL AREA       3 TANJONG PAGAR PLAZA  Tanjong Pagar   \n105699      6  2021    QUEENSTOWN              91 DAWSON ROAD     Queenstown   \n88081       8  2021    ANG MO KIO    310A ANG MO KIO AVENUE 1     Ang Mo Kio   \n106057     10  2021    QUEENSTOWN              92 DAWSON ROAD     Queenstown   \n90521      10  2021        BISHAN        237 BISHAN STREET 22         Bishan   \n92340      10  2021   BUKIT MERAH            56 HAVELOCK ROAD    Tiong Bahru   \n91694       4  2021   BUKIT MERAH          35 LIM LIAK STREET    Tiong Bahru   \n98379      12  2021       HOUGANG        615 HOUGANG AVENUE 8        Hougang   \n92226       9  2021   BUKIT MERAH          96A HENDERSON ROAD    Tiong Bahru   \n105468      3  2021    QUEENSTOWN              90 DAWSON ROAD     Queenstown   \n92533      12  2021   BUKIT MERAH          2C BOON TIONG ROAD    Tiong Bahru   \n105966      9  2021    QUEENSTOWN              91 DAWSON ROAD     Queenstown   \n92066       8  2021   BUKIT MERAH         48 MOH GUAN TERRACE    Tiong Bahru   \n\n        dist_to_nearest_stn  dist_to_dhoby  degree_centrality  \\\n92405              0.581977       2.309477           0.016807   \n90957              1.292540      10.763777           0.016807   \n112128             0.370873      12.479752           0.033613   \n90608              0.776182       6.297489           0.033613   \n106192             0.658035       3.807573           0.016807   \n91871              0.693391       2.058774           0.016807   \n93825              0.451637       2.594828           0.016807   \n92504              0.468378       2.365532           0.016807   \n105695             0.745596       3.720593           0.016807   \n90432              0.827889       6.370404           0.033613   \n92299              0.490926       2.278805           0.016807   \n92442              0.686789       2.664024           0.016807   \n93895              0.490378       2.630876           0.016807   \n105699             0.745596       3.720593           0.016807   \n88081              0.860056       7.263401           0.016807   \n106057             0.584731       3.882019           0.016807   \n90521              0.947205       6.663943           0.033613   \n92340              0.451387       2.128424           0.016807   \n91694              0.481551       2.262574           0.016807   \n98379              0.899849       8.828235           0.016807   \n92226              0.586629       2.932814           0.016807   \n105468             0.701852       3.763948           0.016807   \n92533              0.656363       1.982722           0.016807   \n105966             0.745596       3.720593           0.016807   \n92066              0.538563       2.345844           0.016807   \n\n        eigenvector_centrality                 flat_model_type  \\\n92405                 0.047782                3 ROOM, Standard   \n90957                 0.000217            EXECUTIVE, Apartment   \n112128                0.000229           EXECUTIVE, Maisonette   \n90608                 0.015854                    5 ROOM, DBSS   \n106192                0.008342  4 ROOM, Premium Apartment Loft   \n91871                 0.047782                3 ROOM, Standard   \n93825                 0.103876           5 ROOM, Adjoined flat   \n92504                 0.047782                3 ROOM, Standard   \n105695                0.008342  4 ROOM, Premium Apartment Loft   \n90432                 0.015854                    5 ROOM, DBSS   \n92299                 0.047782                3 ROOM, Standard   \n92442                 0.047782                5 ROOM, Improved   \n93895                 0.103876           5 ROOM, Adjoined flat   \n105699                0.008342  4 ROOM, Premium Apartment Loft   \n88081                 0.006243                5 ROOM, Improved   \n106057                0.008342  4 ROOM, Premium Apartment Loft   \n90521                 0.015854                5 ROOM, Improved   \n92340                 0.047782                5 ROOM, Improved   \n91694                 0.047782                3 ROOM, Standard   \n98379                 0.001507            EXECUTIVE, Apartment   \n92226                 0.047782                5 ROOM, Improved   \n105468                0.008342  4 ROOM, Premium Apartment Loft   \n92533                 0.047782                5 ROOM, Improved   \n105966                0.008342  4 ROOM, Premium Apartment Loft   \n92066                 0.047782                3 ROOM, Standard   \n\n        remaining_lease_years  floor_area_sqm storey_range  resale_price  \\\n92405               50.166667            88.0     01 TO 03      780000.0   \n90957               75.583333           144.0     10 TO 12      968000.0   \n112128              61.750000           148.0     01 TO 03      998000.0   \n90608               88.833333           120.0     37 TO 39     1360000.0   \n106192              93.333333           109.0     04 TO 06      968000.0   \n91871               50.583333            88.0     01 TO 03      680888.0   \n93825               54.583333           118.0     16 TO 18      938000.0   \n92504               50.166667            88.0     01 TO 03      695000.0   \n105695              93.916667            97.0     07 TO 09      930000.0   \n90432               88.916667           120.0     25 TO 27     1280000.0   \n92299               50.333333            88.0     01 TO 03      690000.0   \n92442               90.333333           113.0     16 TO 18     1165000.0   \n93895               54.250000           139.0     07 TO 09      958000.0   \n105699              93.916667           109.0     31 TO 33     1032888.0   \n88081               90.166667           121.0     28 TO 30     1100000.0   \n106057              93.500000            97.0     13 TO 15      958000.0   \n90521               69.583333           121.0     07 TO 09      988000.0   \n92340               90.750000           114.0     34 TO 36     1245000.0   \n91694               50.833333            88.0     01 TO 03      680000.0   \n98379               63.666667           142.0     04 TO 06      873000.0   \n92226               96.750000           113.0     28 TO 30     1220000.0   \n105468              94.166667            95.0     10 TO 12      920000.0   \n92533               78.083333           115.0     28 TO 30     1130000.0   \n105966              93.666667            97.0     25 TO 27      968800.0   \n92066               50.500000            77.0     01 TO 03      628000.0   \n\n        resale_price_prediction         error  \n92405              3.646865e+05  1.724853e+11  \n90957              6.144982e+05  1.249635e+11  \n112128             6.555936e+05  1.172422e+11  \n90608              1.020588e+06  1.152002e+11  \n106192             6.359388e+05  1.102646e+11  \n91871              3.583568e+05  1.040264e+11  \n93825              6.179541e+05  1.024294e+11  \n92504              3.760022e+05  1.017596e+11  \n105695             6.124678e+05  1.008267e+11  \n90432              9.629781e+05  1.005029e+11  \n92299              3.759402e+05  9.863357e+10  \n92442              8.518172e+05  9.808343e+10  \n93895              6.479514e+05  9.613015e+10  \n105699             7.242338e+05  9.526745e+10  \n88081              7.917690e+05  9.500635e+10  \n106057             6.501535e+05  9.476947e+10  \n90521              6.803419e+05  9.465352e+10  \n92340              9.410490e+05  9.238621e+10  \n91694              3.766706e+05  9.200875e+10  \n98379              5.709140e+05  9.125595e+10  \n92226              9.209056e+05  8.945748e+10  \n105468             6.215141e+05  8.909382e+10  \n92533              8.315202e+05  8.909020e+10  \n105966             6.728789e+05  8.756931e+10  \n92066              3.324645e+05  8.734125e+10  ",
      "text/html": "<div>\n<style scoped>\n    .dataframe tbody tr th:only-of-type {\n        vertical-align: middle;\n    }\n\n    .dataframe tbody tr th {\n        vertical-align: top;\n    }\n\n    .dataframe thead th {\n        text-align: right;\n    }\n</style>\n<table border=\"1\" class=\"dataframe\">\n  <thead>\n    <tr style=\"text-align: right;\">\n      <th></th>\n      <th>month</th>\n      <th>year</th>\n      <th>town</th>\n      <th>full_address</th>\n      <th>nearest_stn</th>\n      <th>dist_to_nearest_stn</th>\n      <th>dist_to_dhoby</th>\n      <th>degree_centrality</th>\n      <th>eigenvector_centrality</th>\n      <th>flat_model_type</th>\n      <th>remaining_lease_years</th>\n      <th>floor_area_sqm</th>\n      <th>storey_range</th>\n      <th>resale_price</th>\n      <th>resale_price_prediction</th>\n      <th>error</th>\n    </tr>\n  </thead>\n  <tbody>\n    <tr>\n      <th>92405</th>\n      <td>11</td>\n      <td>2021</td>\n      <td>BUKIT MERAH</td>\n      <td>46 SENG POH ROAD</td>\n      <td>Tiong Bahru</td>\n      <td>0.581977</td>\n      <td>2.309477</td>\n      <td>0.016807</td>\n      <td>0.047782</td>\n      <td>3 ROOM, Standard</td>\n      <td>50.166667</td>\n      <td>88.0</td>\n      <td>01 TO 03</td>\n      <td>780000.0</td>\n      <td>3.646865e+05</td>\n      <td>1.724853e+11</td>\n    </tr>\n    <tr>\n      <th>90957</th>\n      <td>6</td>\n      <td>2021</td>\n      <td>BUKIT BATOK</td>\n      <td>288A BUKIT BATOK STREET 25</td>\n      <td>Bukit Batok</td>\n      <td>1.292540</td>\n      <td>10.763777</td>\n      <td>0.016807</td>\n      <td>0.000217</td>\n      <td>EXECUTIVE, Apartment</td>\n      <td>75.583333</td>\n      <td>144.0</td>\n      <td>10 TO 12</td>\n      <td>968000.0</td>\n      <td>6.144982e+05</td>\n      <td>1.249635e+11</td>\n    </tr>\n    <tr>\n      <th>112128</th>\n      <td>12</td>\n      <td>2021</td>\n      <td>TAMPINES</td>\n      <td>156 TAMPINES STREET 12</td>\n      <td>Tampines</td>\n      <td>0.370873</td>\n      <td>12.479752</td>\n      <td>0.033613</td>\n      <td>0.000229</td>\n      <td>EXECUTIVE, Maisonette</td>\n      <td>61.750000</td>\n      <td>148.0</td>\n      <td>01 TO 03</td>\n      <td>998000.0</td>\n      <td>6.555936e+05</td>\n      <td>1.172422e+11</td>\n    </tr>\n    <tr>\n      <th>90608</th>\n      <td>12</td>\n      <td>2021</td>\n      <td>BISHAN</td>\n      <td>273B BISHAN STREET 24</td>\n      <td>Bishan</td>\n      <td>0.776182</td>\n      <td>6.297489</td>\n      <td>0.033613</td>\n      <td>0.015854</td>\n      <td>5 ROOM, DBSS</td>\n      <td>88.833333</td>\n      <td>120.0</td>\n      <td>37 TO 39</td>\n      <td>1360000.0</td>\n      <td>1.020588e+06</td>\n      <td>1.152002e+11</td>\n    </tr>\n    <tr>\n      <th>106192</th>\n      <td>12</td>\n      <td>2021</td>\n      <td>QUEENSTOWN</td>\n      <td>89 DAWSON ROAD</td>\n      <td>Queenstown</td>\n      <td>0.658035</td>\n      <td>3.807573</td>\n      <td>0.016807</td>\n      <td>0.008342</td>\n      <td>4 ROOM, Premium Apartment Loft</td>\n      <td>93.333333</td>\n      <td>109.0</td>\n      <td>04 TO 06</td>\n      <td>968000.0</td>\n      <td>6.359388e+05</td>\n      <td>1.102646e+11</td>\n    </tr>\n    <tr>\n      <th>91871</th>\n      <td>6</td>\n      <td>2021</td>\n      <td>BUKIT MERAH</td>\n      <td>17 TIONG BAHRU ROAD</td>\n      <td>Tiong Bahru</td>\n      <td>0.693391</td>\n      <td>2.058774</td>\n      <td>0.016807</td>\n      <td>0.047782</td>\n      <td>3 ROOM, Standard</td>\n      <td>50.583333</td>\n      <td>88.0</td>\n      <td>01 TO 03</td>\n      <td>680888.0</td>\n      <td>3.583568e+05</td>\n      <td>1.040264e+11</td>\n    </tr>\n    <tr>\n      <th>93825</th>\n      <td>8</td>\n      <td>2021</td>\n      <td>CENTRAL AREA</td>\n      <td>4 TANJONG PAGAR PLAZA</td>\n      <td>Tanjong Pagar</td>\n      <td>0.451637</td>\n      <td>2.594828</td>\n      <td>0.016807</td>\n      <td>0.103876</td>\n      <td>5 ROOM, Adjoined flat</td>\n      <td>54.583333</td>\n      <td>118.0</td>\n      <td>16 TO 18</td>\n      <td>938000.0</td>\n      <td>6.179541e+05</td>\n      <td>1.024294e+11</td>\n    </tr>\n    <tr>\n      <th>92504</th>\n      <td>12</td>\n      <td>2021</td>\n      <td>BUKIT MERAH</td>\n      <td>49 KIM PONG ROAD</td>\n      <td>Tiong Bahru</td>\n      <td>0.468378</td>\n      <td>2.365532</td>\n      <td>0.016807</td>\n      <td>0.047782</td>\n      <td>3 ROOM, Standard</td>\n      <td>50.166667</td>\n      <td>88.0</td>\n      <td>01 TO 03</td>\n      <td>695000.0</td>\n      <td>3.760022e+05</td>\n      <td>1.017596e+11</td>\n    </tr>\n    <tr>\n      <th>105695</th>\n      <td>6</td>\n      <td>2021</td>\n      <td>QUEENSTOWN</td>\n      <td>91 DAWSON ROAD</td>\n      <td>Queenstown</td>\n      <td>0.745596</td>\n      <td>3.720593</td>\n      <td>0.016807</td>\n      <td>0.008342</td>\n      <td>4 ROOM, Premium Apartment Loft</td>\n      <td>93.916667</td>\n      <td>97.0</td>\n      <td>07 TO 09</td>\n      <td>930000.0</td>\n      <td>6.124678e+05</td>\n      <td>1.008267e+11</td>\n    </tr>\n    <tr>\n      <th>90432</th>\n      <td>8</td>\n      <td>2021</td>\n      <td>BISHAN</td>\n      <td>275A BISHAN STREET 24</td>\n      <td>Bishan</td>\n      <td>0.827889</td>\n      <td>6.370404</td>\n      <td>0.033613</td>\n      <td>0.015854</td>\n      <td>5 ROOM, DBSS</td>\n      <td>88.916667</td>\n      <td>120.0</td>\n      <td>25 TO 27</td>\n      <td>1280000.0</td>\n      <td>9.629781e+05</td>\n      <td>1.005029e+11</td>\n    </tr>\n    <tr>\n      <th>92299</th>\n      <td>10</td>\n      <td>2021</td>\n      <td>BUKIT MERAH</td>\n      <td>36 MOH GUAN TERRACE</td>\n      <td>Tiong Bahru</td>\n      <td>0.490926</td>\n      <td>2.278805</td>\n      <td>0.016807</td>\n      <td>0.047782</td>\n      <td>3 ROOM, Standard</td>\n      <td>50.333333</td>\n      <td>88.0</td>\n      <td>01 TO 03</td>\n      <td>690000.0</td>\n      <td>3.759402e+05</td>\n      <td>9.863357e+10</td>\n    </tr>\n    <tr>\n      <th>92442</th>\n      <td>11</td>\n      <td>2021</td>\n      <td>BUKIT MERAH</td>\n      <td>127D KIM TIAN ROAD</td>\n      <td>Tiong Bahru</td>\n      <td>0.686789</td>\n      <td>2.664024</td>\n      <td>0.016807</td>\n      <td>0.047782</td>\n      <td>5 ROOM, Improved</td>\n      <td>90.333333</td>\n      <td>113.0</td>\n      <td>16 TO 18</td>\n      <td>1165000.0</td>\n      <td>8.518172e+05</td>\n      <td>9.808343e+10</td>\n    </tr>\n    <tr>\n      <th>93895</th>\n      <td>11</td>\n      <td>2021</td>\n      <td>CENTRAL AREA</td>\n      <td>3 TANJONG PAGAR PLAZA</td>\n      <td>Tanjong Pagar</td>\n      <td>0.490378</td>\n      <td>2.630876</td>\n      <td>0.016807</td>\n      <td>0.103876</td>\n      <td>5 ROOM, Adjoined flat</td>\n      <td>54.250000</td>\n      <td>139.0</td>\n      <td>07 TO 09</td>\n      <td>958000.0</td>\n      <td>6.479514e+05</td>\n      <td>9.613015e+10</td>\n    </tr>\n    <tr>\n      <th>105699</th>\n      <td>6</td>\n      <td>2021</td>\n      <td>QUEENSTOWN</td>\n      <td>91 DAWSON ROAD</td>\n      <td>Queenstown</td>\n      <td>0.745596</td>\n      <td>3.720593</td>\n      <td>0.016807</td>\n      <td>0.008342</td>\n      <td>4 ROOM, Premium Apartment Loft</td>\n      <td>93.916667</td>\n      <td>109.0</td>\n      <td>31 TO 33</td>\n      <td>1032888.0</td>\n      <td>7.242338e+05</td>\n      <td>9.526745e+10</td>\n    </tr>\n    <tr>\n      <th>88081</th>\n      <td>8</td>\n      <td>2021</td>\n      <td>ANG MO KIO</td>\n      <td>310A ANG MO KIO AVENUE 1</td>\n      <td>Ang Mo Kio</td>\n      <td>0.860056</td>\n      <td>7.263401</td>\n      <td>0.016807</td>\n      <td>0.006243</td>\n      <td>5 ROOM, Improved</td>\n      <td>90.166667</td>\n      <td>121.0</td>\n      <td>28 TO 30</td>\n      <td>1100000.0</td>\n      <td>7.917690e+05</td>\n      <td>9.500635e+10</td>\n    </tr>\n    <tr>\n      <th>106057</th>\n      <td>10</td>\n      <td>2021</td>\n      <td>QUEENSTOWN</td>\n      <td>92 DAWSON ROAD</td>\n      <td>Queenstown</td>\n      <td>0.584731</td>\n      <td>3.882019</td>\n      <td>0.016807</td>\n      <td>0.008342</td>\n      <td>4 ROOM, Premium Apartment Loft</td>\n      <td>93.500000</td>\n      <td>97.0</td>\n      <td>13 TO 15</td>\n      <td>958000.0</td>\n      <td>6.501535e+05</td>\n      <td>9.476947e+10</td>\n    </tr>\n    <tr>\n      <th>90521</th>\n      <td>10</td>\n      <td>2021</td>\n      <td>BISHAN</td>\n      <td>237 BISHAN STREET 22</td>\n      <td>Bishan</td>\n      <td>0.947205</td>\n      <td>6.663943</td>\n      <td>0.033613</td>\n      <td>0.015854</td>\n      <td>5 ROOM, Improved</td>\n      <td>69.583333</td>\n      <td>121.0</td>\n      <td>07 TO 09</td>\n      <td>988000.0</td>\n      <td>6.803419e+05</td>\n      <td>9.465352e+10</td>\n    </tr>\n    <tr>\n      <th>92340</th>\n      <td>10</td>\n      <td>2021</td>\n      <td>BUKIT MERAH</td>\n      <td>56 HAVELOCK ROAD</td>\n      <td>Tiong Bahru</td>\n      <td>0.451387</td>\n      <td>2.128424</td>\n      <td>0.016807</td>\n      <td>0.047782</td>\n      <td>5 ROOM, Improved</td>\n      <td>90.750000</td>\n      <td>114.0</td>\n      <td>34 TO 36</td>\n      <td>1245000.0</td>\n      <td>9.410490e+05</td>\n      <td>9.238621e+10</td>\n    </tr>\n    <tr>\n      <th>91694</th>\n      <td>4</td>\n      <td>2021</td>\n      <td>BUKIT MERAH</td>\n      <td>35 LIM LIAK STREET</td>\n      <td>Tiong Bahru</td>\n      <td>0.481551</td>\n      <td>2.262574</td>\n      <td>0.016807</td>\n      <td>0.047782</td>\n      <td>3 ROOM, Standard</td>\n      <td>50.833333</td>\n      <td>88.0</td>\n      <td>01 TO 03</td>\n      <td>680000.0</td>\n      <td>3.766706e+05</td>\n      <td>9.200875e+10</td>\n    </tr>\n    <tr>\n      <th>98379</th>\n      <td>12</td>\n      <td>2021</td>\n      <td>HOUGANG</td>\n      <td>615 HOUGANG AVENUE 8</td>\n      <td>Hougang</td>\n      <td>0.899849</td>\n      <td>8.828235</td>\n      <td>0.016807</td>\n      <td>0.001507</td>\n      <td>EXECUTIVE, Apartment</td>\n      <td>63.666667</td>\n      <td>142.0</td>\n      <td>04 TO 06</td>\n      <td>873000.0</td>\n      <td>5.709140e+05</td>\n      <td>9.125595e+10</td>\n    </tr>\n    <tr>\n      <th>92226</th>\n      <td>9</td>\n      <td>2021</td>\n      <td>BUKIT MERAH</td>\n      <td>96A HENDERSON ROAD</td>\n      <td>Tiong Bahru</td>\n      <td>0.586629</td>\n      <td>2.932814</td>\n      <td>0.016807</td>\n      <td>0.047782</td>\n      <td>5 ROOM, Improved</td>\n      <td>96.750000</td>\n      <td>113.0</td>\n      <td>28 TO 30</td>\n      <td>1220000.0</td>\n      <td>9.209056e+05</td>\n      <td>8.945748e+10</td>\n    </tr>\n    <tr>\n      <th>105468</th>\n      <td>3</td>\n      <td>2021</td>\n      <td>QUEENSTOWN</td>\n      <td>90 DAWSON ROAD</td>\n      <td>Queenstown</td>\n      <td>0.701852</td>\n      <td>3.763948</td>\n      <td>0.016807</td>\n      <td>0.008342</td>\n      <td>4 ROOM, Premium Apartment Loft</td>\n      <td>94.166667</td>\n      <td>95.0</td>\n      <td>10 TO 12</td>\n      <td>920000.0</td>\n      <td>6.215141e+05</td>\n      <td>8.909382e+10</td>\n    </tr>\n    <tr>\n      <th>92533</th>\n      <td>12</td>\n      <td>2021</td>\n      <td>BUKIT MERAH</td>\n      <td>2C BOON TIONG ROAD</td>\n      <td>Tiong Bahru</td>\n      <td>0.656363</td>\n      <td>1.982722</td>\n      <td>0.016807</td>\n      <td>0.047782</td>\n      <td>5 ROOM, Improved</td>\n      <td>78.083333</td>\n      <td>115.0</td>\n      <td>28 TO 30</td>\n      <td>1130000.0</td>\n      <td>8.315202e+05</td>\n      <td>8.909020e+10</td>\n    </tr>\n    <tr>\n      <th>105966</th>\n      <td>9</td>\n      <td>2021</td>\n      <td>QUEENSTOWN</td>\n      <td>91 DAWSON ROAD</td>\n      <td>Queenstown</td>\n      <td>0.745596</td>\n      <td>3.720593</td>\n      <td>0.016807</td>\n      <td>0.008342</td>\n      <td>4 ROOM, Premium Apartment Loft</td>\n      <td>93.666667</td>\n      <td>97.0</td>\n      <td>25 TO 27</td>\n      <td>968800.0</td>\n      <td>6.728789e+05</td>\n      <td>8.756931e+10</td>\n    </tr>\n    <tr>\n      <th>92066</th>\n      <td>8</td>\n      <td>2021</td>\n      <td>BUKIT MERAH</td>\n      <td>48 MOH GUAN TERRACE</td>\n      <td>Tiong Bahru</td>\n      <td>0.538563</td>\n      <td>2.345844</td>\n      <td>0.016807</td>\n      <td>0.047782</td>\n      <td>3 ROOM, Standard</td>\n      <td>50.500000</td>\n      <td>77.0</td>\n      <td>01 TO 03</td>\n      <td>628000.0</td>\n      <td>3.324645e+05</td>\n      <td>8.734125e+10</td>\n    </tr>\n  </tbody>\n</table>\n</div>"
     },
     "execution_count": 7,
     "metadata": {},
     "output_type": "execute_result"
    }
   ],
   "source": [
    "# TODO: Enter your code here\n",
    "# Calculate squared errors for each prediction\n",
    "prediction_df['error'] = prediction_df.apply(\n",
    "    lambda x: (x['resale_price'] - x['resale_price_prediction']) ** 2,\n",
    "    axis=1\n",
    ")\n",
    "worst_predictions = prediction_df.sort_values(by=\"error\", ascending=False).head(25)\n",
    "best_predictions = prediction_df.sort_values(by=\"error\", ascending=True).head(25)\n",
    "\n",
    "worst_predictions"
   ]
  },
  {
   "cell_type": "markdown",
   "metadata": {
    "id": "bX5zy7V3qaGp",
    "pycharm": {
     "name": "#%% md\n"
    }
   },
   "source": [
    "\\# TODO: \\<Enter your answer here\\>"
   ]
  },
  {
   "cell_type": "code",
   "execution_count": 8,
   "outputs": [
    {
     "name": "stdout",
     "output_type": "stream",
     "text": [
      "month: month\n",
      "12    6\n",
      "6     4\n",
      "8     4\n",
      "10    4\n",
      "11    3\n",
      "9     2\n",
      "4     1\n",
      "3     1\n",
      "Name: count, dtype: int64, month\n",
      "2     6\n",
      "1     6\n",
      "5     3\n",
      "3     2\n",
      "10    2\n",
      "7     2\n",
      "6     1\n",
      "8     1\n",
      "4     1\n",
      "12    1\n",
      "Name: count, dtype: int64\n",
      "town: town\n",
      "BUKIT MERAH     10\n",
      "QUEENSTOWN       6\n",
      "BISHAN           3\n",
      "CENTRAL AREA     2\n",
      "BUKIT BATOK      1\n",
      "TAMPINES         1\n",
      "ANG MO KIO       1\n",
      "HOUGANG          1\n",
      "Name: count, dtype: int64, town\n",
      "BUKIT MERAH        3\n",
      "QUEENSTOWN         3\n",
      "TAMPINES           2\n",
      "GEYLANG            2\n",
      "KALLANG/WHAMPOA    2\n",
      "ANG MO KIO         2\n",
      "SENGKANG           2\n",
      "BEDOK              2\n",
      "JURONG WEST        1\n",
      "CENTRAL AREA       1\n",
      "BUKIT PANJANG      1\n",
      "WOODLANDS          1\n",
      "TOA PAYOH          1\n",
      "SERANGOON          1\n",
      "JURONG EAST        1\n",
      "Name: count, dtype: int64\n",
      "flat_model_type: flat_model_type\n",
      "3 ROOM, Standard                  6\n",
      "4 ROOM, Premium Apartment Loft    6\n",
      "5 ROOM, Improved                  6\n",
      "EXECUTIVE, Apartment              2\n",
      "5 ROOM, DBSS                      2\n",
      "5 ROOM, Adjoined flat             2\n",
      "EXECUTIVE, Maisonette             1\n",
      "Name: count, dtype: int64, flat_model_type\n",
      "3 ROOM, Improved                5\n",
      "3 ROOM, Standard                4\n",
      "3 ROOM, Model A                 2\n",
      "EXECUTIVE, Apartment            2\n",
      "3 ROOM, New Generation          2\n",
      "4 ROOM, Model A                 2\n",
      "5 ROOM, Improved                2\n",
      "2 ROOM, Improved                1\n",
      "EXECUTIVE, Premium Apartment    1\n",
      "3 ROOM, Premium Apartment       1\n",
      "EXECUTIVE, Maisonette           1\n",
      "3 ROOM, Simplified              1\n",
      "4 ROOM, Improved                1\n",
      "Name: count, dtype: int64\n",
      "storey_range: storey_range\n",
      "01 TO 03    7\n",
      "07 TO 09    3\n",
      "28 TO 30    3\n",
      "10 TO 12    2\n",
      "04 TO 06    2\n",
      "16 TO 18    2\n",
      "25 TO 27    2\n",
      "37 TO 39    1\n",
      "31 TO 33    1\n",
      "13 TO 15    1\n",
      "34 TO 36    1\n",
      "Name: count, dtype: int64, storey_range\n",
      "04 TO 06    7\n",
      "10 TO 12    6\n",
      "07 TO 09    5\n",
      "01 TO 03    4\n",
      "25 TO 27    1\n",
      "13 TO 15    1\n",
      "22 TO 24    1\n",
      "Name: count, dtype: int64\n"
     ]
    },
    {
     "data": {
      "text/plain": "<Figure size 640x480 with 1 Axes>",
      "image/png": "[encoded data removed]"
     },
     "metadata": {},
     "output_type": "display_data"
    },
    {
     "data": {
      "text/plain": "<Figure size 640x480 with 1 Axes>",
      "image/png": "[encoded data removed]"
     },
     "metadata": {},
     "output_type": "display_data"
    },
    {
     "data": {
      "text/plain": "<Figure size 640x480 with 1 Axes>",
      "image/png": "[encoded data removed]"
     },
     "metadata": {},
     "output_type": "display_data"
    },
    {
     "data": {
      "text/plain": "<Figure size 640x480 with 1 Axes>",
      "image/png": "[encoded data removed]"
     },
     "metadata": {},
     "output_type": "display_data"
    },
    {
     "data": {
      "text/plain": "<Figure size 640x480 with 1 Axes>",
      "image/png": "[encoded data removed]"
     },
     "metadata": {},
     "output_type": "display_data"
    },
    {
     "data": {
      "text/plain": "<Figure size 640x480 with 1 Axes>",
      "image/png": "[encoded data removed]"
     },
     "metadata": {},
     "output_type": "display_data"
    },
    {
     "data": {
      "text/plain": "<Figure size 640x480 with 0 Axes>"
     },
     "metadata": {},
     "output_type": "display_data"
    }
   ],
   "source": [
    "import matplotlib.pyplot as plt\n",
    "\n",
    "for column in continuous_columns:\n",
    "    plt.boxplot([worst_predictions[column], best_predictions[column]], positions=[1,2])\n",
    "    plt.title(column)\n",
    "    plt.figure()\n",
    "\n",
    "for column in categorical_columns:\n",
    "    print(f\"{column}: {worst_predictions[column].value_counts()}, {best_predictions[column].value_counts()}\")"
   ],
   "metadata": {
    "collapsed": false,
    "pycharm": {
     "name": "#%%\n"
    }
   }
  },
  {
   "cell_type": "markdown",
   "source": [
    "The errors primarily originate from disparities within the categorical columns, where, for instance, selecting\n",
    "month=12 or storey_range=1 TO 3 leads to significant discrepancies.\n",
    "\n",
    "To mitigate these errors, we can address them by removing these specific categorical columns.\n",
    "\n",
    "Additionally, you can increase the number of layers in the model, a deeper layer will help the model to learn to\n",
    "generalise better."
   ],
   "metadata": {
    "collapsed": false,
    "pycharm": {
     "name": "#%% md\n"
    }
   }
  },
  {
   "cell_type": "code",
   "execution_count": 9,
   "outputs": [
    {
     "name": "stderr",
     "output_type": "stream",
     "text": [
      "2023-10-13 22:35:01,339 - {pytorch_tabular.tabular_model:1289} - WARNING - Directory is not empty. Overwriting the contents.\n"
     ]
    }
   ],
   "source": [
    "tabular_model.save_model(\"saved_models/part_B_1\")"
   ],
   "metadata": {
    "collapsed": false,
    "pycharm": {
     "name": "#%%\n"
    }
   }
  }
 ],
 "metadata": {
  "colab": {
   "authorship_tag": "ABX9TyOG8ZhA98h3O6fnefkjOU9w",
   "provenance": []
  },
  "kernelspec": {
   "name": "cz4042_b",
   "language": "python",
   "display_name": "cz4042_B"
  },
  "language_info": {
   "codemirror_mode": {
    "name": "ipython",
    "version": 3
   },
   "file_extension": ".py",
   "mimetype": "text/x-python",
   "name": "python",
   "nbconvert_exporter": "python",
   "pygments_lexer": "ipython3",
   "version": "3.11.2"
  }
 },
 "nbformat": 4,
 "nbformat_minor": 1
}